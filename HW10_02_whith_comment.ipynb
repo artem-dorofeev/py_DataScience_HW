{
  "cells": [
    {
      "cell_type": "markdown",
      "metadata": {
        "id": "view-in-github",
        "colab_type": "text"
      },
      "source": [
        "<a href=\"https://colab.research.google.com/github/artem-dorofeev/py_DataScience_HW/blob/main/HW10_02_whith_comment.ipynb\" target=\"_parent\"><img src=\"https://colab.research.google.com/assets/colab-badge.svg\" alt=\"Open In Colab\"/></a>"
      ]
    },
    {
      "cell_type": "markdown",
      "metadata": {
        "id": "TE_LPFhAgls0"
      },
      "source": [
        "**Частина 2**\n",
        "\n",
        "В цій частині ми знову будемо працювати з датасетом fasion_mnist.\n",
        "\n",
        "\n",
        "На відміну від попереднього завдання вам пропонується створити згорткову нейромережу, що використовує VGG16 в якості згорткової основи.\n",
        "\n",
        "\n",
        "Навчіть отриману мережу на даних із датасету fasion_mnist. Спробуйте досягти максимально можливої точності класифікації за рахунок маніпуляції параметрами мережі. Під час навчання використовуйте прийоми донавчання та виділення ознак.\n",
        "\n",
        "\n",
        "Порівняйте точність отриманої згорткової мережі з точністю багатошарової мережі з попереднього завдання. Зробіть висновки."
      ]
    },
    {
      "cell_type": "markdown",
      "metadata": {
        "id": "MN1kkyCyhaUN"
      },
      "source": [
        "*Тепер створимо згорткову нейромережу з архітектурою VGG16*"
      ]
    },
    {
      "cell_type": "code",
      "execution_count": 17,
      "metadata": {
        "id": "gZ6eTam5iRev"
      },
      "outputs": [],
      "source": [
        "import numpy as np\n",
        "import tensorflow as tf\n",
        "from tensorflow.keras import layers, models\n",
        "from tensorflow.keras.applications import VGG16\n",
        "from tensorflow.keras.datasets import fashion_mnist\n",
        "from tensorflow.keras.utils import to_categorical\n",
        "from tensorflow.keras.preprocessing.image import img_to_array, array_to_img, load_img\n",
        "from tensorflow.keras.callbacks import EarlyStopping\n",
        "\n",
        "import matplotlib.pyplot as plt"
      ]
    },
    {
      "cell_type": "code",
      "source": [
        "img_width = 32\n",
        "img_height = 32"
      ],
      "metadata": {
        "id": "v41ilPWf3t8Z"
      },
      "execution_count": 2,
      "outputs": []
    },
    {
      "cell_type": "code",
      "source": [
        "# Завантаження даних\n",
        "(train_images, train_labels), (test_images, test_labels) = fashion_mnist.load_data()"
      ],
      "metadata": {
        "id": "YlJzblML0AgT"
      },
      "execution_count": 3,
      "outputs": []
    },
    {
      "cell_type": "code",
      "source": [
        "train_images.shape"
      ],
      "metadata": {
        "colab": {
          "base_uri": "https://localhost:8080/"
        },
        "id": "kHJ4B0Pu0J11",
        "outputId": "63e35df3-1615-453f-c4ca-3ca0c8b5cfc9"
      },
      "execution_count": 4,
      "outputs": [
        {
          "output_type": "execute_result",
          "data": {
            "text/plain": [
              "(60000, 28, 28)"
            ]
          },
          "metadata": {},
          "execution_count": 4
        }
      ]
    },
    {
      "cell_type": "code",
      "execution_count": 5,
      "metadata": {
        "id": "icF0oKXb-xQp"
      },
      "outputs": [],
      "source": [
        "# Підготовка даних\n",
        "# (train_images, train_labels), (test_images, test_labels) = fashion_mnist.load_data()\n",
        "train_images = np.repeat(train_images[..., np.newaxis], 3, -1)  # Дублюємо канали, оскільки VGG16 очікує RGB\n",
        "test_images = np.repeat(test_images[..., np.newaxis], 3, -1)\n",
        "\n",
        "train_images = train_images / 255.0\n",
        "test_images = test_images / 255.0\n",
        "\n",
        "# Додавання паддингу оскільки VGG16 очікує 32x32 (використовуэмо або ресайз або паддинг)\n",
        "padding = tf.constant([[0, 0], [2, 2], [2, 2], [0, 0]])\n",
        "train_images_padded = tf.pad(train_images, padding, \"CONSTANT\")\n",
        "test_images_padded = tf.pad(test_images, padding, \"CONSTANT\")\n",
        "\n",
        "# # Змінюємо розмір оскільки VGG16 очікує 32x32 (використовуэмо або ресайз або паддинг)\n",
        "new_size = (img_width, img_height)\n",
        "# train_images = tf.image.resize(train_images, new_size)  # Змінюємо розмір зображень до 32x32, оскільки VGG16 очікує 32x32\n",
        "# test_images = tf.image.resize(test_images, new_size)\n",
        "\n",
        "# Змінюємо розмір вхідних зображень VGG16\n",
        "input_shape = (*new_size, 3)\n",
        "\n",
        "train_labels = to_categorical(train_labels)\n",
        "test_labels = to_categorical(test_labels)"
      ]
    },
    {
      "cell_type": "code",
      "source": [
        "# Отримати унікальні класи\n",
        "unique_classes = np.unique(np.argmax(train_labels, axis=1))\n",
        "\n",
        "# Кількість стовпчиків і рядків у візуалізації\n",
        "num_cols = 5\n",
        "num_rows = 2\n",
        "\n",
        "# Розмір зображення\n",
        "fig, axes = plt.subplots(num_rows, num_cols, figsize=(12, 8))\n",
        "\n",
        "# Показати по одному зображенню від кожного класу\n",
        "for i, class_label in enumerate(unique_classes):\n",
        "    # Знайти перше зображення для поточного класу\n",
        "    index = np.argmax(train_labels, axis=1) == class_label\n",
        "\n",
        "    # Отримати відповідне позначення рядка та стовпчика\n",
        "    row = i // num_cols\n",
        "    col = i % num_cols\n",
        "\n",
        "    # Вибрати тільки перший канал (червоний)\n",
        "    red_channel = train_images_padded[index][0][:, :, 0]\n",
        "\n",
        "    axes[row, col].imshow(red_channel, cmap='gray_r')  # Зображення тепер чорно-біле (червоний канал)\n",
        "    axes[row, col].set_title(f\"Class: {class_label}\")\n",
        "    axes[row, col].axis('off')  # Відключення вісей для кращого вигляду\n",
        "\n",
        "# Показати графік\n",
        "plt.show()"
      ],
      "metadata": {
        "colab": {
          "base_uri": "https://localhost:8080/",
          "height": 555
        },
        "id": "icxJmNF7MfZh",
        "outputId": "6b613f31-cf1b-4a30-f51e-897f63f00fab"
      },
      "execution_count": 6,
      "outputs": [
        {
          "output_type": "display_data",
          "data": {
            "text/plain": [
              "<Figure size 1200x800 with 10 Axes>"
            ],
            "image/png": "[encoded data removed]"
          },
          "metadata": {}
        }
      ]
    },
    {
      "cell_type": "code",
      "source": [
        "train_images_padded.shape"
      ],
      "metadata": {
        "colab": {
          "base_uri": "https://localhost:8080/"
        },
        "id": "kOHiUgyPMQIa",
        "outputId": "d7bee688-aab6-4c4f-db9b-908fe916ef6b"
      },
      "execution_count": 7,
      "outputs": [
        {
          "output_type": "execute_result",
          "data": {
            "text/plain": [
              "TensorShape([60000, 32, 32, 3])"
            ]
          },
          "metadata": {},
          "execution_count": 7
        }
      ]
    },
    {
      "cell_type": "code",
      "source": [
        "assert train_images_padded.shape[1:] == input_shape, f\"Розміри train_images не відповідають {input_shape}\"\n",
        "assert test_images_padded.shape[1:] == input_shape, f\"Розміри test_images не відповідають {input_shape}\"\n"
      ],
      "metadata": {
        "id": "wucHssXt_wNG"
      },
      "execution_count": 10,
      "outputs": []
    },
    {
      "cell_type": "code",
      "execution_count": 14,
      "metadata": {
        "colab": {
          "base_uri": "https://localhost:8080/"
        },
        "id": "-UU8ontt_IQw",
        "outputId": "a7a2b0ea-8560-4ade-e7ae-eaa910c9cb15"
      },
      "outputs": [
        {
          "output_type": "stream",
          "name": "stdout",
          "text": [
            "Model: \"sequential_1\"\n",
            "_________________________________________________________________\n",
            " Layer (type)                Output Shape              Param #   \n",
            "=================================================================\n",
            " vgg16 (Functional)          (None, 1, 1, 512)         14714688  \n",
            "                                                                 \n",
            " flatten_1 (Flatten)         (None, 512)               0         \n",
            "                                                                 \n",
            " dense_2 (Dense)             (None, 256)               131328    \n",
            "                                                                 \n",
            " dropout_1 (Dropout)         (None, 256)               0         \n",
            "                                                                 \n",
            " dense_3 (Dense)             (None, 10)                2570      \n",
            "                                                                 \n",
            "=================================================================\n",
            "Total params: 14848586 (56.64 MB)\n",
            "Trainable params: 133898 (523.04 KB)\n",
            "Non-trainable params: 14714688 (56.13 MB)\n",
            "_________________________________________________________________\n"
          ]
        }
      ],
      "source": [
        "# Завантаження VGG16 без верхніх Dense шарів та \"заморожуємо\" ваги\n",
        "base_model = VGG16(weights='imagenet', include_top=False, input_shape=input_shape)\n",
        "base_model.trainable = False\n",
        "\n",
        "# Створення згорткової мережі з використанням VGG16\n",
        "model = models.Sequential()\n",
        "model.add(base_model)\n",
        "model.add(layers.Flatten())\n",
        "model.add(layers.Dense(256, activation='relu'))\n",
        "model.add(layers.Dropout(0.1))\n",
        "model.add(layers.Dense(10, activation='softmax'))\n",
        "\n",
        "# Компіляція та навчання моделі\n",
        "model.compile(optimizer='adam', loss='categorical_crossentropy', metrics=['accuracy'])\n",
        "model.summary()  # Вивід структури моделі\n"
      ]
    },
    {
      "cell_type": "code",
      "source": [
        "# Тренування моделі для train_images_padding\n",
        "history_padding = model.fit(train_images_padded, train_labels, epochs=10, batch_size=256, validation_split=0.2)\n",
        "\n",
        "# Оцінка точності на тестових даних\n",
        "test_loss, test_acc = model.evaluate(test_images_padded, test_labels)\n",
        "print(f'Точність на тестових даних: {test_acc}')\n",
        "\n",
        "# Оцінка точності на тренувальних даних\n",
        "train_loss, train_acc = model.evaluate(train_images_padded, train_labels)\n",
        "print(f'Точність на тренувальних даних: {train_acc}')\n"
      ],
      "metadata": {
        "colab": {
          "base_uri": "https://localhost:8080/"
        },
        "id": "LJbTg6obXR17",
        "outputId": "e60f324c-7957-4be3-c1b6-54d456c4c696"
      },
      "execution_count": 15,
      "outputs": [
        {
          "output_type": "stream",
          "name": "stdout",
          "text": [
            "Epoch 1/10\n",
            "188/188 [==============================] - 8s 39ms/step - loss: 0.7483 - accuracy: 0.7445 - val_loss: 0.5271 - val_accuracy: 0.8096\n",
            "Epoch 2/10\n",
            "188/188 [==============================] - 7s 36ms/step - loss: 0.4927 - accuracy: 0.8236 - val_loss: 0.4639 - val_accuracy: 0.8332\n",
            "Epoch 3/10\n",
            "188/188 [==============================] - 8s 42ms/step - loss: 0.4368 - accuracy: 0.8405 - val_loss: 0.4278 - val_accuracy: 0.8463\n",
            "Epoch 4/10\n",
            "188/188 [==============================] - 7s 36ms/step - loss: 0.4070 - accuracy: 0.8521 - val_loss: 0.4132 - val_accuracy: 0.8497\n",
            "Epoch 5/10\n",
            "188/188 [==============================] - 7s 36ms/step - loss: 0.3849 - accuracy: 0.8575 - val_loss: 0.4031 - val_accuracy: 0.8519\n",
            "Epoch 6/10\n",
            "188/188 [==============================] - 7s 35ms/step - loss: 0.3684 - accuracy: 0.8656 - val_loss: 0.3937 - val_accuracy: 0.8589\n",
            "Epoch 7/10\n",
            "188/188 [==============================] - 7s 36ms/step - loss: 0.3566 - accuracy: 0.8689 - val_loss: 0.3806 - val_accuracy: 0.8599\n",
            "Epoch 8/10\n",
            "188/188 [==============================] - 7s 35ms/step - loss: 0.3435 - accuracy: 0.8733 - val_loss: 0.3845 - val_accuracy: 0.8597\n",
            "Epoch 9/10\n",
            "188/188 [==============================] - 7s 35ms/step - loss: 0.3354 - accuracy: 0.8775 - val_loss: 0.3712 - val_accuracy: 0.8642\n",
            "Epoch 10/10\n",
            "188/188 [==============================] - 7s 35ms/step - loss: 0.3271 - accuracy: 0.8799 - val_loss: 0.3693 - val_accuracy: 0.8644\n",
            "313/313 [==============================] - 3s 9ms/step - loss: 0.3743 - accuracy: 0.8645\n",
            "Точність на тестових даних: 0.8644999861717224\n",
            "1875/1875 [==============================] - 16s 8ms/step - loss: 0.3226 - accuracy: 0.8813\n",
            "Точність на тренувальних даних: 0.8813499808311462\n"
          ]
        }
      ]
    },
    {
      "cell_type": "code",
      "source": [
        "model.save('model_1_hw10_02.keras')"
      ],
      "metadata": {
        "id": "AqTBMPkDkZiw"
      },
      "execution_count": 19,
      "outputs": []
    },
    {
      "cell_type": "code",
      "source": [
        "# Створення згорткової мережі з використанням VGG16\n",
        "model_2 = models.Sequential()\n",
        "model_2.add(base_model)\n",
        "model_2.add(layers.Flatten())\n",
        "model_2.add(layers.Dense(256, activation='relu'))\n",
        "model_2.add(layers.Dropout(0.1))\n",
        "model_2.add(layers.Dense(10, activation='softmax'))\n",
        "\n",
        "# Компіляція та налаштування EarlyStopping\n",
        "model_2.compile(optimizer='adam', loss='categorical_crossentropy', metrics=['accuracy'])\n",
        "early_stopping = EarlyStopping(monitor='val_accuracy', patience=3, restore_best_weights=True)\n",
        "\n",
        "# Навчання моделі з використанням Dropout та EarlyStopping\n",
        "history_model_2 = model_2.fit(train_images_padded, train_labels, epochs=50, batch_size=64, validation_split=0.2, callbacks=[early_stopping])\n",
        "\n",
        "# Оцінка точності на тестових даних\n",
        "test_loss, test_acc = model_2.evaluate(test_images_padded, test_labels)\n",
        "print(f'Точність на тестових даних: {test_acc}')\n",
        "\n",
        "# Оцінка точності на тренувальних даних\n",
        "train_loss, train_acc = model_2.evaluate(train_images_padded, train_labels)\n",
        "print(f'Точність на тренувальних даних: {train_acc}')"
      ],
      "metadata": {
        "colab": {
          "base_uri": "https://localhost:8080/"
        },
        "id": "ezggmdgTh65g",
        "outputId": "4235d350-454b-4e0f-beef-db420ab99085"
      },
      "execution_count": 18,
      "outputs": [
        {
          "output_type": "stream",
          "name": "stdout",
          "text": [
            "Epoch 1/50\n",
            "750/750 [==============================] - 12s 14ms/step - loss: 0.6074 - accuracy: 0.7852 - val_loss: 0.4685 - val_accuracy: 0.8283\n",
            "Epoch 2/50\n",
            "750/750 [==============================] - 10s 13ms/step - loss: 0.4338 - accuracy: 0.8401 - val_loss: 0.4248 - val_accuracy: 0.8457\n",
            "Epoch 3/50\n",
            "750/750 [==============================] - 10s 13ms/step - loss: 0.3958 - accuracy: 0.8539 - val_loss: 0.3883 - val_accuracy: 0.8582\n",
            "Epoch 4/50\n",
            "750/750 [==============================] - 10s 13ms/step - loss: 0.3726 - accuracy: 0.8644 - val_loss: 0.3837 - val_accuracy: 0.8634\n",
            "Epoch 5/50\n",
            "750/750 [==============================] - 11s 14ms/step - loss: 0.3532 - accuracy: 0.8696 - val_loss: 0.3753 - val_accuracy: 0.8645\n",
            "Epoch 6/50\n",
            "750/750 [==============================] - 10s 14ms/step - loss: 0.3391 - accuracy: 0.8743 - val_loss: 0.3692 - val_accuracy: 0.8677\n",
            "Epoch 7/50\n",
            "750/750 [==============================] - 10s 13ms/step - loss: 0.3258 - accuracy: 0.8788 - val_loss: 0.3532 - val_accuracy: 0.8724\n",
            "Epoch 8/50\n",
            "750/750 [==============================] - 10s 13ms/step - loss: 0.3137 - accuracy: 0.8831 - val_loss: 0.3532 - val_accuracy: 0.8723\n",
            "Epoch 9/50\n",
            "750/750 [==============================] - 10s 14ms/step - loss: 0.3049 - accuracy: 0.8855 - val_loss: 0.3638 - val_accuracy: 0.8682\n",
            "Epoch 10/50\n",
            "750/750 [==============================] - 10s 13ms/step - loss: 0.2979 - accuracy: 0.8898 - val_loss: 0.3471 - val_accuracy: 0.8742\n",
            "Epoch 11/50\n",
            "750/750 [==============================] - 10s 13ms/step - loss: 0.2896 - accuracy: 0.8921 - val_loss: 0.3456 - val_accuracy: 0.8757\n",
            "Epoch 12/50\n",
            "750/750 [==============================] - 11s 14ms/step - loss: 0.2824 - accuracy: 0.8945 - val_loss: 0.3563 - val_accuracy: 0.8745\n",
            "Epoch 13/50\n",
            "750/750 [==============================] - 11s 14ms/step - loss: 0.2732 - accuracy: 0.8976 - val_loss: 0.3474 - val_accuracy: 0.8773\n",
            "Epoch 14/50\n",
            "750/750 [==============================] - 11s 14ms/step - loss: 0.2684 - accuracy: 0.9009 - val_loss: 0.3475 - val_accuracy: 0.8733\n",
            "Epoch 15/50\n",
            "750/750 [==============================] - 10s 14ms/step - loss: 0.2618 - accuracy: 0.9018 - val_loss: 0.3329 - val_accuracy: 0.8817\n",
            "Epoch 16/50\n",
            "750/750 [==============================] - 10s 14ms/step - loss: 0.2556 - accuracy: 0.9049 - val_loss: 0.3457 - val_accuracy: 0.8794\n",
            "Epoch 17/50\n",
            "750/750 [==============================] - 10s 13ms/step - loss: 0.2485 - accuracy: 0.9062 - val_loss: 0.3478 - val_accuracy: 0.8798\n",
            "Epoch 18/50\n",
            "750/750 [==============================] - 10s 13ms/step - loss: 0.2418 - accuracy: 0.9090 - val_loss: 0.3550 - val_accuracy: 0.8743\n",
            "313/313 [==============================] - 3s 8ms/step - loss: 0.3456 - accuracy: 0.8793\n",
            "Точність на тестових даних: 0.8792999982833862\n",
            "1875/1875 [==============================] - 16s 8ms/step - loss: 0.2501 - accuracy: 0.9089\n",
            "Точність на тренувальних даних: 0.9088500142097473\n"
          ]
        }
      ]
    },
    {
      "cell_type": "code",
      "source": [
        "model_2.save('model_2_hw10_02.keras')"
      ],
      "metadata": {
        "id": "SOeaqYAfkm9H"
      },
      "execution_count": 20,
      "outputs": []
    },
    {
      "cell_type": "code",
      "source": [
        "train_images_padded.shape"
      ],
      "metadata": {
        "colab": {
          "base_uri": "https://localhost:8080/"
        },
        "id": "HR_nFRwBnzfn",
        "outputId": "39e0c576-ba5b-4570-f6e2-c1f548e9a488"
      },
      "execution_count": 26,
      "outputs": [
        {
          "output_type": "execute_result",
          "data": {
            "text/plain": [
              "TensorShape([60000, 32, 32, 3])"
            ]
          },
          "metadata": {},
          "execution_count": 26
        }
      ]
    },
    {
      "cell_type": "code",
      "source": [
        "from tensorflow.keras.preprocessing.image import ImageDataGenerator\n",
        "\n",
        "# Створення об'єкта ImageDataGenerator для донавчання та виділення ознак\n",
        "datagen = ImageDataGenerator(\n",
        "    rotation_range=20,  # Випадковий поворот на кут у межах 20 градусів\n",
        "    width_shift_range=0.2,  # Випадковий зсув по горизонталі\n",
        "    height_shift_range=0.2,  # Випадковий зсув по вертикалі\n",
        "    shear_range=0.2,  # Випадковий зріз\n",
        "    zoom_range=0.2,  # Випадкове масштабування\n",
        "    horizontal_flip=True,  # Випадковий поворот по горизонталі\n",
        "    fill_mode='nearest'  # Заповнення пікселями поблизу\n",
        ")\n",
        "\n",
        "# Донавчання моделей з використанням ImageDataGenerator\n",
        "# history_model_upd = model.fit(datagen.flow(train_images_padded, train_labels, batch_size=256),\n",
        "#                               epochs=10, validation_data=(test_images_padded, test_labels))\n",
        "\n",
        "history_model_2_upd = model_2.fit(datagen.flow(train_images_padded, train_labels, batch_size=256),\n",
        "                                epochs=10, validation_data=(test_images_padded, test_labels))\n",
        "\n",
        "\n",
        "# Вивід результатів\n",
        "# print(\"Результати для першої моделі після донавчання:\")\n",
        "# test_loss, test_acc = model.evaluate(test_images_padded, test_labels)\n",
        "# print(f'Точність на тестових даних: {test_acc}')\n",
        "\n",
        "print(\"Результати для другої моделі після донавчання:\")\n",
        "test_loss_2, test_acc_2 = model_2.evaluate(test_images_padded, test_labels)\n",
        "print(f'Точність на тестових даних: {test_acc_2}')\n"
      ],
      "metadata": {
        "colab": {
          "base_uri": "https://localhost:8080/"
        },
        "id": "zTXKxGlKl1OQ",
        "outputId": "46647d0d-17db-4346-83b3-a7c1f47b14ae"
      },
      "execution_count": 27,
      "outputs": [
        {
          "output_type": "stream",
          "name": "stdout",
          "text": [
            "Epoch 1/10\n",
            "235/235 [==============================] - 38s 160ms/step - loss: 0.7543 - accuracy: 0.7315 - val_loss: 0.4775 - val_accuracy: 0.8252\n",
            "Epoch 2/10\n",
            "235/235 [==============================] - 40s 171ms/step - loss: 0.6196 - accuracy: 0.7723 - val_loss: 0.4681 - val_accuracy: 0.8361\n",
            "Epoch 3/10\n",
            "235/235 [==============================] - 38s 163ms/step - loss: 0.5937 - accuracy: 0.7808 - val_loss: 0.4730 - val_accuracy: 0.8281\n",
            "Epoch 4/10\n",
            "235/235 [==============================] - 39s 164ms/step - loss: 0.5745 - accuracy: 0.7889 - val_loss: 0.4766 - val_accuracy: 0.8309\n",
            "Epoch 5/10\n",
            "235/235 [==============================] - 38s 163ms/step - loss: 0.5607 - accuracy: 0.7928 - val_loss: 0.4499 - val_accuracy: 0.8405\n",
            "Epoch 6/10\n",
            "235/235 [==============================] - 39s 165ms/step - loss: 0.5511 - accuracy: 0.7970 - val_loss: 0.4725 - val_accuracy: 0.8333\n",
            "Epoch 7/10\n",
            "235/235 [==============================] - 38s 163ms/step - loss: 0.5413 - accuracy: 0.7991 - val_loss: 0.4449 - val_accuracy: 0.8398\n",
            "Epoch 8/10\n",
            "235/235 [==============================] - 39s 165ms/step - loss: 0.5328 - accuracy: 0.8020 - val_loss: 0.4581 - val_accuracy: 0.8350\n",
            "Epoch 9/10\n",
            "235/235 [==============================] - 38s 163ms/step - loss: 0.5317 - accuracy: 0.8029 - val_loss: 0.4628 - val_accuracy: 0.8332\n",
            "Epoch 10/10\n",
            "235/235 [==============================] - 38s 160ms/step - loss: 0.5282 - accuracy: 0.8037 - val_loss: 0.4437 - val_accuracy: 0.8403\n",
            "Результати для другої моделі після донавчання:\n",
            "313/313 [==============================] - 3s 8ms/step - loss: 0.4437 - accuracy: 0.8403\n",
            "Точність на тестових даних: 0.8403000235557556\n"
          ]
        }
      ]
    }
  ],
  "metadata": {
    "colab": {
      "provenance": [],
      "gpuType": "T4",
      "authorship_tag": "ABX9TyM5N2zuFZRiN8UKF30RomKJ",
      "include_colab_link": true
    },
    "kernelspec": {
      "display_name": "Python 3",
      "name": "python3"
    },
    "language_info": {
      "name": "python"
    },
    "accelerator": "GPU"
  },
  "nbformat": 4,
  "nbformat_minor": 0
}