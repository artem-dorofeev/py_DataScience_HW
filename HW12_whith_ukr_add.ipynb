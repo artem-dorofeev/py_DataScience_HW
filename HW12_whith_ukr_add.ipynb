{
  "nbformat": 4,
  "nbformat_minor": 0,
  "metadata": {
    "colab": {
      "provenance": [],
      "authorship_tag": "ABX9TyMyVSRY5TPWYJ0FvJ3Afk3S",
      "include_colab_link": true
    },
    "kernelspec": {
      "name": "python3",
      "display_name": "Python 3"
    },
    "language_info": {
      "name": "python"
    }
  },
  "cells": [
    {
      "cell_type": "markdown",
      "metadata": {
        "id": "view-in-github",
        "colab_type": "text"
      },
      "source": [
        "<a href=\"https://colab.research.google.com/github/artem-dorofeev/py_DataScience_HW/blob/main/HW12_whith_ukr_add.ipynb\" target=\"_parent\"><img src=\"https://colab.research.google.com/assets/colab-badge.svg\" alt=\"Open In Colab\"/></a>"
      ]
    },
    {
      "cell_type": "markdown",
      "source": [
        "**Домашнє завдання 12**"
      ],
      "metadata": {
        "id": "2tQExMw08W3R"
      }
    },
    {
      "cell_type": "markdown",
      "source": [
        "*Зробіть summary нижчевказаного тексту використовуючи бібліотеки для NLP: nltk та SpaCy*"
      ],
      "metadata": {
        "id": "ppmMOwAA8UCw"
      }
    },
    {
      "cell_type": "code",
      "execution_count": 1,
      "metadata": {
        "id": "-0Zjqpwr7rWZ"
      },
      "outputs": [],
      "source": [
        "# імпортування бібліотек\n",
        "\n",
        "import spacy\n",
        "\n",
        "import nltk\n",
        "from nltk.corpus import stopwords\n",
        "from nltk.tokenize import word_tokenize, sent_tokenize\n",
        "\n",
        "import string\n",
        "from heapq import nlargest"
      ]
    },
    {
      "cell_type": "code",
      "source": [
        "nltk.download('punkt')\n",
        "nltk.download('stopwords')"
      ],
      "metadata": {
        "colab": {
          "base_uri": "https://localhost:8080/"
        },
        "id": "-w0y-gwpuPLZ",
        "outputId": "f793fc31-1763-45bd-f00e-08388bafd05d"
      },
      "execution_count": 2,
      "outputs": [
        {
          "output_type": "stream",
          "name": "stderr",
          "text": [
            "[nltk_data] Downloading package punkt to /root/nltk_data...\n",
            "[nltk_data]   Unzipping tokenizers/punkt.zip.\n",
            "[nltk_data] Downloading package stopwords to /root/nltk_data...\n",
            "[nltk_data]   Unzipping corpora/stopwords.zip.\n"
          ]
        },
        {
          "output_type": "execute_result",
          "data": {
            "text/plain": [
              "True"
            ]
          },
          "metadata": {},
          "execution_count": 2
        }
      ]
    },
    {
      "cell_type": "markdown",
      "source": [
        "*Спробую два методи нижчі опишу різницю.*"
      ],
      "metadata": {
        "id": "tdjy6gmqIXKc"
      }
    },
    {
      "cell_type": "code",
      "source": [
        "# Перш ніж почати роботу з SpaCy, необхідно завантажити потрібну мовну модель.\n",
        "\n",
        "nlp = spacy.load('en_core_web_sm')"
      ],
      "metadata": {
        "id": "sCmdvUAh80cz"
      },
      "execution_count": 3,
      "outputs": []
    },
    {
      "cell_type": "code",
      "source": [
        "# Текст для обробки\n",
        "text = \"The Orbiter Discovery, OV-103, is considered eligible for listing in the National Register of Historic Places (NRHP) in the context of the U.S. Space Shuttle Program (1969-2011) under Criterion A in the areas of Space Exploration and Transportation and under Criterion C in the area of Engineering. Because it has achieved significance within the past fifty years, Criteria Consideration G applies. Under Criterion A, Discovery is significant as the oldest of the three extant orbiter vehicles constructed for the Space Shuttle Program (SSP), the longest running American space program to date; she was the third of five orbiters built by NASA. Unlike the Mercury, Gemini, and Apollo programs, the SSP’s emphasis was on cost effectiveness and reusability, and eventually the construction of a space station. Including her maiden voyage (launched August 30, 1984), Discovery flew to space thirty-nine times, more than any of the other four orbiters; she was also the first orbiter to fly twenty missions. She had the honor of being chosen as the Return to Flight vehicle after both the Challenger and Columbia accidents. Discovery was the first shuttle to fly with the redesigned SRBs, a result of the Challenger accident, and the first shuttle to fly with the Phase II and Block I SSME. Discovery also carried the Hubble Space Telescope to orbit and performed two of the five servicing missions to the observatory. She flew the first and last dedicated Department of Defense (DoD) missions, as well as the first unclassified defense-related mission. In addition, Discovery was vital to the construction of the International Space Station (ISS); she flew thirteen of the thirty-seven total missions flown to the station by a U.S. Space Shuttle. She was the first orbiter to dock to the ISS, and the first to perform an exchange of a resident crew. Under Criterion C, Discovery is significant as a feat of engineering. According to Wayne Hale, a flight director from Johnson Space Center, the Space Shuttle orbiter represents a “huge technological leap from expendable rockets and capsules to a reusable, winged, hypersonic, cargo-carrying spacecraft.” Although her base structure followed a conventional aircraft design, she used advanced materials that both minimized her weight for cargo-carrying purposes and featured low thermal expansion ratios, which provided a stable base for her Thermal Protection System (TPS) materials. The Space Shuttle orbiter also featured the first reusable TPS; all previous spaceflight vehicles had a single-use, ablative heat shield. Other notable engineering achievements of the orbiter included the first reusable orbital propulsion system, and the first two-fault-tolerant Integrated Avionics System. As Hale stated, the Space Shuttle remains “the largest, fastest, winged hypersonic aircraft in history,” having regularly flown at twenty-five times the speed of sound.\""
      ],
      "metadata": {
        "id": "mPOHhOH_CF2c"
      },
      "execution_count": 4,
      "outputs": []
    },
    {
      "cell_type": "code",
      "source": [
        "# Токенізація\n",
        "doc = nlp(text)\n",
        "# tokens = [token.text for token in doc]\n",
        "# print(tokens)\n"
      ],
      "metadata": {
        "id": "-Z-Xli1k9MAT"
      },
      "execution_count": 6,
      "outputs": []
    },
    {
      "cell_type": "code",
      "source": [
        "# За допомогою методів NLTK, таких як word_tokenize, sent_tokenize або stopwords, ми можемо отримати токенізовані слова та речення, а також список стоп-слів\n",
        "\n",
        "tokens = word_tokenize(text)\n",
        "sentences = sent_tokenize(text)\n",
        "stop_words = set(stopwords.words('english'))\n",
        "\n",
        "# І також не забуваємо про знаки пунктуації\n",
        "punctuation = string.punctuation + '\\n'"
      ],
      "metadata": {
        "id": "30W4AS6bEpWt"
      },
      "execution_count": 7,
      "outputs": []
    },
    {
      "cell_type": "code",
      "source": [
        "tokens"
      ],
      "metadata": {
        "id": "i9r7b1LuLzCs"
      },
      "execution_count": null,
      "outputs": []
    },
    {
      "cell_type": "code",
      "source": [
        "punctuation"
      ],
      "metadata": {
        "colab": {
          "base_uri": "https://localhost:8080/",
          "height": 35
        },
        "id": "xtF8JrO5JDiV",
        "outputId": "01a0756b-ddfb-4af5-ab47-82bf1094bbe8"
      },
      "execution_count": 9,
      "outputs": [
        {
          "output_type": "execute_result",
          "data": {
            "text/plain": [
              "'!\"#$%&\\'()*+,-./:;<=>?@[\\\\]^_`{|}~\\n'"
            ],
            "application/vnd.google.colaboratory.intrinsic+json": {
              "type": "string"
            }
          },
          "metadata": {},
          "execution_count": 9
        }
      ]
    },
    {
      "cell_type": "code",
      "source": [
        "# Також можна порахувати частоту появи тих чи інших слів у тексті(але варто пам'ятати, що це треба робити, вже виключивши усі знаки пунктуації)\n",
        "\n",
        "word_frequencies = {}\n",
        "for word in doc:\n",
        "    if word.text.lower() not in stop_words and word.text.lower() not in punctuation:\n",
        "        if word.text not in word_frequencies.keys():\n",
        "            word_frequencies[word.text] = 1\n",
        "        else:\n",
        "            word_frequencies[word.text] += 1"
      ],
      "metadata": {
        "id": "xJoNDGsOGGIc"
      },
      "execution_count": 10,
      "outputs": []
    },
    {
      "cell_type": "code",
      "source": [
        "# сортуємо та виводимо на екран\n",
        "sorted_word_frequencies = sorted(word_frequencies.items(), key=lambda x: x[1], reverse=True)\n",
        "sorted_word_frequencies"
      ],
      "metadata": {
        "id": "JnF1dAJOROEi"
      },
      "execution_count": null,
      "outputs": []
    },
    {
      "cell_type": "code",
      "source": [
        "word_frequencies"
      ],
      "metadata": {
        "id": "pxj-yI31JQW0"
      },
      "execution_count": null,
      "outputs": []
    },
    {
      "cell_type": "markdown",
      "source": [
        "*У першому методі ви обчислюєте \"вагову оцінку\" кожного речення, враховуючи кількість зустрічаних у ньому слів, які зустрічаються у словнику частот слів:*"
      ],
      "metadata": {
        "id": "1eBouhLGT7ee"
      }
    },
    {
      "cell_type": "code",
      "source": [
        "sentence_scores = {}\n",
        "for sent in sentences:\n",
        "    for word in nltk.word_tokenize(sent.lower()):\n",
        "        if word in word_frequencies.keys():\n",
        "            if len(sent.split(' ')) < 30:  # Filter out very long sentences\n",
        "                if sent not in sentence_scores.keys():\n",
        "                    sentence_scores[sent] = word_frequencies[word]\n",
        "                else:\n",
        "                    sentence_scores[sent] += word_frequencies[word]"
      ],
      "metadata": {
        "id": "1UyMt6eqL6k3"
      },
      "execution_count": 13,
      "outputs": []
    },
    {
      "cell_type": "code",
      "source": [
        "summary_sentences = nlargest(3, sentence_scores, key=sentence_scores.get)\n",
        "summary_sentences"
      ],
      "metadata": {
        "colab": {
          "base_uri": "https://localhost:8080/"
        },
        "id": "ydl-sGvjMAS4",
        "outputId": "b2bc02cf-940e-4c53-c9cc-3630a1ef17f6"
      },
      "execution_count": 14,
      "outputs": [
        {
          "output_type": "execute_result",
          "data": {
            "text/plain": [
              "['Other notable engineering achievements of the orbiter included the first reusable orbital propulsion system, and the first two-fault-tolerant Integrated Avionics System.',\n",
              " 'The Space Shuttle orbiter also featured the first reusable TPS; all previous spaceflight vehicles had a single-use, ablative heat shield.',\n",
              " 'She flew the first and last dedicated Department of Defense (DoD) missions, as well as the first unclassified defense-related mission.']"
            ]
          },
          "metadata": {},
          "execution_count": 14
        }
      ]
    },
    {
      "cell_type": "markdown",
      "source": [
        "*У другому методі ви використовуєте функцію схожості SpaCy для порівняння кожного речення з усім текстом. Це оцінює схожість між кожним реченням та усім текстом, а не просто рахує кількість зустрічаних у реченні слів:*"
      ],
      "metadata": {
        "id": "D6Lk6FAwUKUg"
      }
    },
    {
      "cell_type": "code",
      "source": [
        "# Вагова оцінка речень з використанням SpaCy\n",
        "def rank_sentences_spacy(text, num_sentences=3):\n",
        "    doc = nlp(text)\n",
        "    sentences = [sent.text for sent in doc.sents] # Кожне речення у тексті витягується окремо за допомогою doc.sents, та перетворюється на рядок\n",
        "    ranked_sentences = sorted(sentences, key=lambda x: nlp(x).similarity(doc), reverse=True) # Речення сортуються за їх ваговою оцінкою, яка визначається з використанням nlp(x).similarity(doc), де x - це кожне окреме речення у тексті\n",
        "    return ranked_sentences[:num_sentences]\n",
        "\n",
        "# Вибір найважливіших речень з використанням SpaCy\n",
        "important_sentences_spacy = rank_sentences_spacy(text)\n"
      ],
      "metadata": {
        "id": "Lw9wSTMzH_BO",
        "colab": {
          "base_uri": "https://localhost:8080/"
        },
        "outputId": "dc13aa3b-2fa6-4b45-a8a2-93100db68052"
      },
      "execution_count": 15,
      "outputs": [
        {
          "output_type": "stream",
          "name": "stderr",
          "text": [
            "<ipython-input-15-049bea8bb49b>:5: UserWarning: [W007] The model you're using has no word vectors loaded, so the result of the Doc.similarity method will be based on the tagger, parser and NER, which may not give useful similarity judgements. This may happen if you're using one of the small models, e.g. `en_core_web_sm`, which don't ship with word vectors and only use context-sensitive tensors. You can always add your own word vectors, or use one of the larger models instead if available.\n",
            "  ranked_sentences = sorted(sentences, key=lambda x: nlp(x).similarity(doc), reverse=True) # Речення сортуються за їх ваговою оцінкою, яка визначається з використанням nlp(x).similarity(doc), де x - це кожне окреме речення у тексті\n"
          ]
        }
      ]
    },
    {
      "cell_type": "code",
      "source": [
        "# Створення резюме на основі найважливіших речень\n",
        "summary_spacy = ' '.join(important_sentences_spacy)\n",
        "\n",
        "summary_spacy"
      ],
      "metadata": {
        "colab": {
          "base_uri": "https://localhost:8080/",
          "height": 89
        },
        "id": "ZOcImhUSoJo5",
        "outputId": "3dba2dc8-5a16-432f-a6ce-735fa145f5d8"
      },
      "execution_count": 16,
      "outputs": [
        {
          "output_type": "execute_result",
          "data": {
            "text/plain": [
              "'Under Criterion A, Discovery is significant as the oldest of the three extant orbiter vehicles constructed for the Space Shuttle Program (SSP), the longest running American space program to date; she was the third of five orbiters built by NASA. In addition, Discovery was vital to the construction of the International Space Station (ISS); she flew thirteen of the thirty-seven total missions flown to the station by a U.S. Space Shuttle. According to Wayne Hale, a flight director from Johnson Space Center, the Space Shuttle orbiter represents a “huge technological leap from expendable rockets and capsules to a reusable, winged, hypersonic, cargo-carrying spacecraft.”'"
            ],
            "application/vnd.google.colaboratory.intrinsic+json": {
              "type": "string"
            }
          },
          "metadata": {},
          "execution_count": 16
        }
      ]
    },
    {
      "cell_type": "markdown",
      "source": [
        "*Результати будуть різними, оскільки ці два підходи вимірюють різні аспекти \"важливості\" речень. У першому випадку \"важливість\" вимірюється частотою слів, які зустрічаються в реченні. У другому випадку \"важливість\" вимірюється ступенем схожості речення з усім текстом.*"
      ],
      "metadata": {
        "id": "_P6GTM4vUUf7"
      }
    },
    {
      "cell_type": "markdown",
      "source": [
        "*спробуємо для тексту українською мовою*"
      ],
      "metadata": {
        "id": "srY-wjvIX2X7"
      }
    },
    {
      "cell_type": "code",
      "source": [
        "# Завантаження файлу\n",
        "file_path = '/content/data/dges.txt'\n",
        "\n",
        "# Читання вмісту файлу\n",
        "with open(file_path, 'r', encoding='utf-8') as file:\n",
        "    text_ua = file.read()\n",
        "\n",
        "# Обробка тексту за допомогою spaCy\n",
        "# doc_ua = nlp(text_ua)\n"
      ],
      "metadata": {
        "id": "GsqKZW5wqGWN"
      },
      "execution_count": 17,
      "outputs": []
    },
    {
      "cell_type": "code",
      "source": [
        "doc_ua"
      ],
      "metadata": {
        "id": "-YQDdkXXqP4u"
      },
      "execution_count": null,
      "outputs": []
    },
    {
      "cell_type": "code",
      "source": [
        "text_ua"
      ],
      "metadata": {
        "colab": {
          "base_uri": "https://localhost:8080/",
          "height": 125
        },
        "id": "WAq8r2CnYIdZ",
        "outputId": "ae70ece0-3d74-49c8-bbb2-1f9ee5a79e55"
      },
      "execution_count": 18,
      "outputs": [
        {
          "output_type": "execute_result",
          "data": {
            "text/plain": [
              "\"Дніпровська гідроелектростанція – найстаріша ГЕС, побудована на річці Дніпро. Її з впевненістю можна вважати символом цілої епохи, який і зараз викликає захоплення своєю красою та величчю. Досі дивує, як таку масштабну споруду вдалося збудувати ще у 20-х роках ХХ століття. Історія будівництва Дніпровської ГЕС дуже цікава. З цим проєктом пов’язано безліч міфів та легенд.\\n\\nІдея будівництва греблі на річці Дніпро виникла ще в ХVІІІ столітті, у часи правління Катерини ІІ. Після захоплення Криму та Таврії імперія розглядала Дніпро як перспективну транспорту артерію для постачання товарів на нові землі та укріплення своїх позицій на сході. Але такому використанню річки заважали відомі дніпровські пороги, тому пріоритетом у проєктах того часу було забезпечення судноплавства по всій довжині Дніпра, шляхом їх затоплення. У 1778 році почалася історія боротьби з порогами технічними засобами – були здійснені спроби підірвати пороховими зарядами Старо-Кайдацький поріг та Ненаситець. За півтора століття було створено десятки проєктів, витрачено чимало коштів та людських зусиль, втім, марно. Головна мета – наскрізне судноплавство по Дніпру – так і залишалась недосяжною.\\n\\nЧаси змінювались. Розпочалася епоха винаходів та масштабних інженерних проєктів.\\n\\nВперше ідея побудувати греблю з гідроелектростанціями на тому самому місці, де тепер стоїть ДніпроГЕС, виникла у 1905 році. Її запропонували інженери С.П. Максимов та Г.Й. Графтіо. Однак, здійснити цей грандіозний на той час задум завадила Перша світова війна. На довгі роки країна поринула у війну, революції та руїну.\\n\\nНа самому початку 20-х років ХХ століття Олександрівськ (нині Запоріжжя) завмер на порозі великих змін. Він переживав чи не найгірші свої часи: після революцій, громадянської війни та постійного переділу влади зупинилась більшість заводів. Мости, які забезпечували постійний транспортний зв'язок між берегами Дніпра, були зруйновані. Через воєнні дії, епідемію тифу та голод від посухи, кількість мешканців міста скоротилася майже вдвічі. Зміни на краще почалися тут в епоху індустріалізації, коли Олександрівськ став однією з найперших та найважливіших ланок перспективного плану електрифікації країни. \\n\\nПроєкти майбутньої електростанції на Дніпрі пропонувалися один за одним. Однак, оптимально вирішити проблему Дніпра вдалося Івану Гавриловичу Александрову, який, вивчивши всю інформацію, зібрану його попередниками, запевнив: «Пороги - не нещастя Дніпра, а його цінність». Александров розробив інженерно-технічний проєкт найбільшої у Європі гідроелектростанції. На виклик «таку кількість енергії нікому буде споживати»  професор відповів обґрунтованими розрахунками і довів, що ДніпроГЕС стане серцем промисловості міста та кузнею професійних кадрів.\\n\\nЦікаво, що до проєктування станції долучилися не тільки вітчизняні фахівці, а й іноземці. Саме голові відомої на той час у всьому світі американської організації з проєктування та будівництва гідроелектростанцій, Х’ю Куперу (H.L.Cooper & Co), ми завдячуємо тим, що гребля має форму підкови. Також американський інженер наполіг, щоб греблю будували не з буту, а з бетону, з трикамерним шлюзом замість чотирикамерного.\\n\\nУ 1927 році було призначено персональний склад правління Дніпровського будівництва і у березні на Дніпрі закипіла робота. В районі селища Кічкас перші 16 грабарів розпочали земляні роботи. Незабаром до Кічкасу почали прибувати робітники з усіх куточків Радянського Союзу. У травні на Дніпробуді працювало 2000 людей, у червні – 6000, а у листопаді – вже 127000! Робітників наймали на біржах праці, серед відставних військових та селян. При цьому праця ув'язнених не використовувалась.\\n\\nПрикметно, що 70 % дніпробудівців складала молодь. Розуміючи значення для будівництва кваліфікованих кадрів, керівництво Дніпробуду на об’єкті почало створювати загальноосвітні школи та курси з підготовки спеціалістів - машиністів, слюсарів, теслярів та інших фахівців.\\n\\nОскільки забезпеченість технічними засобами була вкрай низькою, спочатку більшість робіт на будівництві доводилося виконувати вручну. Але згодом Дніпробуд став одним з найбільш технічно забезпечених будівництв у СРСР.\\n\\n«На Дніпробуді воля та розум людини змінюють фігуру та обличчя землі. Десятки та сотні робітників, які свердлять камінь берегів Дніпра електричними свердлами, підривають стародавню породу рідким повітрям, інші десятки переносять, перевозять з місця та місце сотні тисяч кубометрів землі, землю відшматовують залізні щелепи екскаваторів, вона здається легким прахом в руках людини, яка будує для себе нове життя…», - саме так описує свої враження від візиту на Дніпробуд письменник Максим Горький.\\n\\nДля країни, яка пережила Першу світову та багаторічну громадянську війни, зведення такого масштабного об'єкту можна було порівняти з будівництвом єгипетських пірамід, адже будівництво вимагало величезної кількості матеріальних та людських ресурсів. Для реалізації проєкту була потрібна серйозна механізація і організація цілої низки допоміжних виробництв. На місці працювали механічні майстерні, лісопильня, завод із виробництва бетону, компресорні станції, було транспортне господарство. Під час будівництва прокладались залізничні шляхи до греблі та нових мостів.\\n\\nЛісоматеріалами будівництво забезпечували Чернігівщина та Білорусь. Паровими кранами, екскаваторами, думпкарами – Сполучені Штати. Обладнанням для заводів – Німеччина, Швеція та Чехословаччина. Усі дев’ять турбін «Newport News» були замовлені у США. Також у Сполучених Штатах замовили п’ять генераторів фірми «General Electric». Ще чотири генератори для ДніпроГЕСу виготовив ленінградський завод «Електросила».\\n\\nЗгодом навколо Дніпробуду з’явився потужний промисловий комплекс, площею у  40 кв. км. Тут було збудовано завод листових сталей, алюмінієвий комбінат та завод Дніпроспецсталь. Так будівництво Дніпровської станції дало поштовх для створення унікального промислового комплексу країни, вирішило давню історичну проблему судноплавства по Дніпру, водозабезпечення міст та зрошення посушливих земель півдня України.\\n\\nПроєкт зведення ДніпроГЕСу передбачав будівництво греблі через два острови в руслі річки Дніпро. Це дозволяло вести будівництво у кілька етапів, не перекриваючи саму річку, не створюючи обвідного каналу для пропуску води на період будівництва. Будівництво велося одночасно як з лівого, так і з правого берега до островів.\\n\\nВода, яка після будівництва станції піднялася на 40 метрів, давала можливість наскрізного судноплавства через шлюзи Дніпровської ГЕС. І головне – станція задовольняла апетити промислового комплексу в електроенергії за найнижчою у світі ціною.\\n\\n1 березня 1932 року було введено в експлуатацію перший гідроагрегат, а через 8 місяців – 10 листопада, Дніпровську гідроелектростанцію зараховано до числа діючих підприємств. Потужність першої черги ДніпроГЕСу складала 310 тис. кВт. Тут працювало п’ять гідроагрегатів потужністю у 62 тисячі кВт кожен.\\n\\nУ день офіційного відкриття ДніпроГЕСу перші 10 тон продукції виплавив новий завод «Дніпроспецсталь». Найдешевша енергія, яку за припущеннями тогочасних скептиків «нікому буде споживати», почала подаватися і в інші промислові центри: Дніпропетровськ, Кривий Ріг, Нікополь, Дніпродзержинськ та на Донбас.\\n\\nУ січні 1939 року з пуском останнього, дев’ятого гідроагрегату, Дніпровська ГЕС досягла проєктної потужності у 560 000 кВт.\\n\\nТак було збудовано найпотужнішу на той час гідроелектростанцію в Європі. І саме на правобережній скелі із назвою «Любов», звідки почалося будівництво станції, сьогодні знаходиться машинна зала - серце ДніпроГЕСу.\\n\\nГрандіозне будівництво енергетичного об’єкту обійшлося країні в суму близько 100 млн. доларів. Увесь комплекс разом із проммайданчиком та Соцмістечком - в 400 млн.\\n\\nЗ травня 1933 року по червень 1941 року ДніпроГЕС виробила понад 16 млрд. кВт-год електроенергії, завдяки чому країна заощадила більше 10 млн. тон палива.\""
            ],
            "application/vnd.google.colaboratory.intrinsic+json": {
              "type": "string"
            }
          },
          "metadata": {},
          "execution_count": 18
        }
      ]
    },
    {
      "cell_type": "code",
      "source": [
        "import nltk\n",
        "from nltk.tokenize import word_tokenize\n",
        "from nltk.tokenize import RegexpTokenizer\n",
        "\n",
        "# Завантаження токенізатора для української мови\n",
        "nltk.download('perluniprops')\n",
        "nltk.download('nonbreaking_prefixes')"
      ],
      "metadata": {
        "colab": {
          "base_uri": "https://localhost:8080/"
        },
        "id": "9n0KL0H2aUZU",
        "outputId": "4ecb1b9b-965e-4fa8-a8cc-f57faa83c7a9"
      },
      "execution_count": 19,
      "outputs": [
        {
          "output_type": "stream",
          "name": "stderr",
          "text": [
            "[nltk_data] Downloading package perluniprops to /root/nltk_data...\n",
            "[nltk_data]   Unzipping misc/perluniprops.zip.\n",
            "[nltk_data] Downloading package nonbreaking_prefixes to\n",
            "[nltk_data]     /root/nltk_data...\n",
            "[nltk_data]   Unzipping corpora/nonbreaking_prefixes.zip.\n"
          ]
        },
        {
          "output_type": "execute_result",
          "data": {
            "text/plain": [
              "True"
            ]
          },
          "metadata": {},
          "execution_count": 19
        }
      ]
    },
    {
      "cell_type": "code",
      "source": [
        "# Використання токенізатора для української мови\n",
        "# text_ua = \"Привіт, як справи?\"\n",
        "tokenizer = RegexpTokenizer(r'\\w+')\n",
        "tokens_ua = tokenizer.tokenize(text_ua)\n",
        "tokens_ua"
      ],
      "metadata": {
        "id": "E5UqWi_eaaRr"
      },
      "execution_count": null,
      "outputs": []
    },
    {
      "cell_type": "code",
      "source": [
        "#  бібліотека stop-words, яка містить словники стоп-слів для багатьох мов, включаючи українську\n",
        "\n",
        "!pip install stop-words"
      ],
      "metadata": {
        "colab": {
          "base_uri": "https://localhost:8080/"
        },
        "id": "w6gdFv5Lban6",
        "outputId": "c2c9fbdc-fd85-43fe-e9af-0a4cf625b7e2"
      },
      "execution_count": 22,
      "outputs": [
        {
          "output_type": "stream",
          "name": "stdout",
          "text": [
            "Collecting stop-words\n",
            "  Downloading stop-words-2018.7.23.tar.gz (31 kB)\n",
            "  Preparing metadata (setup.py) ... \u001b[?25l\u001b[?25hdone\n",
            "Building wheels for collected packages: stop-words\n",
            "  Building wheel for stop-words (setup.py) ... \u001b[?25l\u001b[?25hdone\n",
            "  Created wheel for stop-words: filename=stop_words-2018.7.23-py3-none-any.whl size=32895 sha256=4ab881cd416c66f1cf574d36aa214e792c91b532411de242795acd77614eac4b\n",
            "  Stored in directory: /root/.cache/pip/wheels/d0/1a/23/f12552a50cb09bcc1694a5ebb6c2cd5f2a0311de2b8c3d9a89\n",
            "Successfully built stop-words\n",
            "Installing collected packages: stop-words\n",
            "Successfully installed stop-words-2018.7.23\n"
          ]
        }
      ]
    },
    {
      "cell_type": "code",
      "source": [
        "from stop_words import get_stop_words\n",
        "\n",
        "# Отримання множини стоп-слів для української мови\n",
        "stop_words_ua = set(get_stop_words('ukrainian'))\n"
      ],
      "metadata": {
        "id": "tpNbqwQNbguD"
      },
      "execution_count": 23,
      "outputs": []
    },
    {
      "cell_type": "markdown",
      "source": [
        " *NLTK не має вбудованих моделей для української мови для модуля punkt. Однак, можливо скористатися альтернативними бібліотеками, які мають підтримку української мови, такими як razdel або tokenizers. *"
      ],
      "metadata": {
        "id": "d9EYxOKWdukn"
      }
    },
    {
      "cell_type": "code",
      "source": [
        "!pip install razdel\n"
      ],
      "metadata": {
        "colab": {
          "base_uri": "https://localhost:8080/"
        },
        "id": "qhUctKKJfj4Q",
        "outputId": "be1fa7b6-7563-49b6-9776-5a3c164b41d2"
      },
      "execution_count": 24,
      "outputs": [
        {
          "output_type": "stream",
          "name": "stdout",
          "text": [
            "Collecting razdel\n",
            "  Downloading razdel-0.5.0-py3-none-any.whl (21 kB)\n",
            "Installing collected packages: razdel\n",
            "Successfully installed razdel-0.5.0\n"
          ]
        }
      ]
    },
    {
      "cell_type": "code",
      "source": [
        "from razdel import sentenize\n",
        "\n",
        "sentences_ua = [sentence.text for sentence in sentenize(text_ua)]\n",
        "print(sentences_ua)\n"
      ],
      "metadata": {
        "id": "ev1u1Dc4dGaF",
        "colab": {
          "base_uri": "https://localhost:8080/"
        },
        "outputId": "5d0eb6c6-adff-4f0a-b785-8aed501cb65a"
      },
      "execution_count": 25,
      "outputs": [
        {
          "output_type": "stream",
          "name": "stdout",
          "text": [
            "['Дніпровська гідроелектростанція – найстаріша ГЕС, побудована на річці Дніпро.', 'Її з впевненістю можна вважати символом цілої епохи, який і зараз викликає захоплення своєю красою та величчю.', 'Досі дивує, як таку масштабну споруду вдалося збудувати ще у 20-х роках ХХ століття.', 'Історія будівництва Дніпровської ГЕС дуже цікава.', 'З цим проєктом пов’язано безліч міфів та легенд.', 'Ідея будівництва греблі на річці Дніпро виникла ще в ХVІІІ столітті, у часи правління Катерини ІІ.', 'Після захоплення Криму та Таврії імперія розглядала Дніпро як перспективну транспорту артерію для постачання товарів на нові землі та укріплення своїх позицій на сході.', 'Але такому використанню річки заважали відомі дніпровські пороги, тому пріоритетом у проєктах того часу було забезпечення судноплавства по всій довжині Дніпра, шляхом їх затоплення.', 'У 1778 році почалася історія боротьби з порогами технічними засобами – були здійснені спроби підірвати пороховими зарядами Старо-Кайдацький поріг та Ненаситець.', 'За півтора століття було створено десятки проєктів, витрачено чимало коштів та людських зусиль, втім, марно.', 'Головна мета – наскрізне судноплавство по Дніпру – так і залишалась недосяжною.', 'Часи змінювались.', 'Розпочалася епоха винаходів та масштабних інженерних проєктів.', 'Вперше ідея побудувати греблю з гідроелектростанціями на тому самому місці, де тепер стоїть ДніпроГЕС, виникла у 1905 році.', 'Її запропонували інженери С.П. Максимов та Г.Й. Графтіо.', 'Однак, здійснити цей грандіозний на той час задум завадила Перша світова війна.', 'На довгі роки країна поринула у війну, революції та руїну.', 'На самому початку 20-х років ХХ століття Олександрівськ (нині Запоріжжя) завмер на порозі великих змін.', 'Він переживав чи не найгірші свої часи: після революцій, громадянської війни та постійного переділу влади зупинилась більшість заводів.', \"Мости, які забезпечували постійний транспортний зв'язок між берегами Дніпра, були зруйновані.\", 'Через воєнні дії, епідемію тифу та голод від посухи, кількість мешканців міста скоротилася майже вдвічі.', 'Зміни на краще почалися тут в епоху індустріалізації, коли Олександрівськ став однією з найперших та найважливіших ланок перспективного плану електрифікації країни.', 'Проєкти майбутньої електростанції на Дніпрі пропонувалися один за одним.', 'Однак, оптимально вирішити проблему Дніпра вдалося Івану Гавриловичу Александрову, який, вивчивши всю інформацію, зібрану його попередниками, запевнив: «Пороги - не нещастя Дніпра, а його цінність».', 'Александров розробив інженерно-технічний проєкт найбільшої у Європі гідроелектростанції.', 'На виклик «таку кількість енергії нікому буде споживати»  професор відповів обґрунтованими розрахунками і довів, що ДніпроГЕС стане серцем промисловості міста та кузнею професійних кадрів.', 'Цікаво, що до проєктування станції долучилися не тільки вітчизняні фахівці, а й іноземці.', 'Саме голові відомої на той час у всьому світі американської організації з проєктування та будівництва гідроелектростанцій, Х’ю Куперу (H.L.Cooper & Co), ми завдячуємо тим, що гребля має форму підкови.', 'Також американський інженер наполіг, щоб греблю будували не з буту, а з бетону, з трикамерним шлюзом замість чотирикамерного.', 'У 1927 році було призначено персональний склад правління Дніпровського будівництва і у березні на Дніпрі закипіла робота.', 'В районі селища Кічкас перші 16 грабарів розпочали земляні роботи.', 'Незабаром до Кічкасу почали прибувати робітники з усіх куточків Радянського Союзу.', 'У травні на Дніпробуді працювало 2000 людей, у червні – 6000, а у листопаді – вже 127000!', 'Робітників наймали на біржах праці, серед відставних військових та селян.', \"При цьому праця ув'язнених не використовувалась.\", 'Прикметно, що 70 % дніпробудівців складала молодь.', 'Розуміючи значення для будівництва кваліфікованих кадрів, керівництво Дніпробуду на об’єкті почало створювати загальноосвітні школи та курси з підготовки спеціалістів - машиністів, слюсарів, теслярів та інших фахівців.', 'Оскільки забезпеченість технічними засобами була вкрай низькою, спочатку більшість робіт на будівництві доводилося виконувати вручну.', 'Але згодом Дніпробуд став одним з найбільш технічно забезпечених будівництв у СРСР.', '«На Дніпробуді воля та розум людини змінюють фігуру та обличчя землі.', 'Десятки та сотні робітників, які свердлять камінь берегів Дніпра електричними свердлами, підривають стародавню породу рідким повітрям, інші десятки переносять, перевозять з місця та місце сотні тисяч кубометрів землі, землю відшматовують залізні щелепи екскаваторів, вона здається легким прахом в руках людини, яка будує для себе нове життя…», - саме так описує свої враження від візиту на Дніпробуд письменник Максим Горький.', \"Для країни, яка пережила Першу світову та багаторічну громадянську війни, зведення такого масштабного об'єкту можна було порівняти з будівництвом єгипетських пірамід, адже будівництво вимагало величезної кількості матеріальних та людських ресурсів.\", 'Для реалізації проєкту була потрібна серйозна механізація і організація цілої низки допоміжних виробництв.', 'На місці працювали механічні майстерні, лісопильня, завод із виробництва бетону, компресорні станції, було транспортне господарство.', 'Під час будівництва прокладались залізничні шляхи до греблі та нових мостів.', 'Лісоматеріалами будівництво забезпечували Чернігівщина та Білорусь.', 'Паровими кранами, екскаваторами, думпкарами – Сполучені Штати.', 'Обладнанням для заводів – Німеччина, Швеція та Чехословаччина.', 'Усі дев’ять турбін «Newport News» були замовлені у США.', 'Також у Сполучених Штатах замовили п’ять генераторів фірми «General Electric».', 'Ще чотири генератори для ДніпроГЕСу виготовив ленінградський завод «Електросила».', 'Згодом навколо Дніпробуду з’явився потужний промисловий комплекс, площею у  40 кв. км.', 'Тут було збудовано завод листових сталей, алюмінієвий комбінат та завод Дніпроспецсталь.', 'Так будівництво Дніпровської станції дало поштовх для створення унікального промислового комплексу країни, вирішило давню історичну проблему судноплавства по Дніпру, водозабезпечення міст та зрошення посушливих земель півдня України.', 'Проєкт зведення ДніпроГЕСу передбачав будівництво греблі через два острови в руслі річки Дніпро.', 'Це дозволяло вести будівництво у кілька етапів, не перекриваючи саму річку, не створюючи обвідного каналу для пропуску води на період будівництва.', 'Будівництво велося одночасно як з лівого, так і з правого берега до островів.', 'Вода, яка після будівництва станції піднялася на 40 метрів, давала можливість наскрізного судноплавства через шлюзи Дніпровської ГЕС.', 'І головне – станція задовольняла апетити промислового комплексу в електроенергії за найнижчою у світі ціною.', '1 березня 1932 року було введено в експлуатацію перший гідроагрегат, а через 8 місяців – 10 листопада, Дніпровську гідроелектростанцію зараховано до числа діючих підприємств.', 'Потужність першої черги ДніпроГЕСу складала 310 тис.', 'кВт.', 'Тут працювало п’ять гідроагрегатів потужністю у 62 тисячі кВт кожен.', 'У день офіційного відкриття ДніпроГЕСу перші 10 тон продукції виплавив новий завод «Дніпроспецсталь».', 'Найдешевша енергія, яку за припущеннями тогочасних скептиків «нікому буде споживати», почала подаватися і в інші промислові центри: Дніпропетровськ, Кривий Ріг, Нікополь, Дніпродзержинськ та на Донбас.', 'У січні 1939 року з пуском останнього, дев’ятого гідроагрегату, Дніпровська ГЕС досягла проєктної потужності у 560 000 кВт.', 'Так було збудовано найпотужнішу на той час гідроелектростанцію в Європі.', 'І саме на правобережній скелі із назвою «Любов», звідки почалося будівництво станції, сьогодні знаходиться машинна зала - серце ДніпроГЕСу.', 'Грандіозне будівництво енергетичного об’єкту обійшлося країні в суму близько 100 млн. доларів.', 'Увесь комплекс разом із проммайданчиком та Соцмістечком - в 400 млн.', 'З травня 1933 року по червень 1941 року ДніпроГЕС виробила понад 16 млрд.', 'кВт-год електроенергії, завдяки чому країна заощадила більше 10 млн. тон палива.']\n"
          ]
        }
      ]
    },
    {
      "cell_type": "code",
      "source": [
        "# встановлення бібліотекі summa\n",
        "\n",
        "!pip install summa"
      ],
      "metadata": {
        "colab": {
          "base_uri": "https://localhost:8080/"
        },
        "id": "5yBp0u7-r94H",
        "outputId": "ff3b5376-bbdc-486b-ae32-7bba8b7ea84e"
      },
      "execution_count": 26,
      "outputs": [
        {
          "output_type": "stream",
          "name": "stdout",
          "text": [
            "Collecting summa\n",
            "  Downloading summa-1.2.0.tar.gz (54 kB)\n",
            "\u001b[?25l     \u001b[90m━━━━━━━━━━━━━━━━━━━━━━━━━━━━━━━━━━━━━━━━\u001b[0m \u001b[32m0.0/54.9 kB\u001b[0m \u001b[31m?\u001b[0m eta \u001b[36m-:--:--\u001b[0m\r\u001b[2K     \u001b[90m━━━━━━━━━━━━━━━━━━━━━━━━━━━━━━━━━━━━━━━━\u001b[0m \u001b[32m54.9/54.9 kB\u001b[0m \u001b[31m2.1 MB/s\u001b[0m eta \u001b[36m0:00:00\u001b[0m\n",
            "\u001b[?25h  Preparing metadata (setup.py) ... \u001b[?25l\u001b[?25hdone\n",
            "Requirement already satisfied: scipy>=0.19 in /usr/local/lib/python3.10/dist-packages (from summa) (1.11.4)\n",
            "Requirement already satisfied: numpy<1.28.0,>=1.21.6 in /usr/local/lib/python3.10/dist-packages (from scipy>=0.19->summa) (1.25.2)\n",
            "Building wheels for collected packages: summa\n",
            "  Building wheel for summa (setup.py) ... \u001b[?25l\u001b[?25hdone\n",
            "  Created wheel for summa: filename=summa-1.2.0-py3-none-any.whl size=54386 sha256=006bbcc55f4597b913e33147e09f6f8549e1942dde3e46e58d03d80af834cdba\n",
            "  Stored in directory: /root/.cache/pip/wheels/4a/ca/c5/4958614cfba88ed6ceb7cb5a849f9f89f9ac49971616bc919f\n",
            "Successfully built summa\n",
            "Installing collected packages: summa\n",
            "Successfully installed summa-1.2.0\n"
          ]
        }
      ]
    },
    {
      "cell_type": "code",
      "source": [
        "from summa.summarizer import summarize\n",
        "\n",
        "# Обробка тексту та отримання summary\n",
        "summary_ua = summarize(text_ua, ratio=0.1)  # Вибрати 10% найбільш важливих речень як summary\n",
        "\n",
        "print(summary_ua)\n"
      ],
      "metadata": {
        "colab": {
          "base_uri": "https://localhost:8080/"
        },
        "id": "Y8VLd2J_r8dv",
        "outputId": "ebd4de1d-9b13-43fb-e525-581ed478fe25"
      },
      "execution_count": 27,
      "outputs": [
        {
          "output_type": "stream",
          "name": "stdout",
          "text": [
            "Ідея будівництва греблі на річці Дніпро виникла ще в ХVІІІ столітті, у часи правління Катерини ІІ.\n",
            "У 1778 році почалася історія боротьби з порогами технічними засобами – були здійснені спроби підірвати пороховими зарядами Старо-Кайдацький поріг та Ненаситець.\n",
            "На довгі роки країна поринула у війну, революції та руїну.\n",
            "Зміни на краще почалися тут в епоху індустріалізації, коли Олександрівськ став однією з найперших та найважливіших ланок перспективного плану електрифікації країни.\n",
            "Саме голові відомої на той час у всьому світі американської організації з проєктування та будівництва гідроелектростанцій, Х’ю Куперу (H.L.Cooper & Co), ми завдячуємо тим, що гребля має форму підкови.\n",
            "Розуміючи значення для будівництва кваліфікованих кадрів, керівництво Дніпробуду на об’єкті почало створювати загальноосвітні школи та курси з підготовки спеціалістів - машиністів, слюсарів, теслярів та інших фахівців.\n",
            "Десятки та сотні робітників, які свердлять камінь берегів Дніпра електричними свердлами, підривають стародавню породу рідким повітрям, інші десятки переносять, перевозять з місця та місце сотні тисяч кубометрів землі, землю відшматовують залізні щелепи екскаваторів, вона здається легким прахом в руках людини, яка будує для себе нове життя…», - саме так описує свої враження від візиту на Дніпробуд письменник Максим Горький.\n"
          ]
        }
      ]
    }
  ]
}