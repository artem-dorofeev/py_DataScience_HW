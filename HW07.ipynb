{
  "nbformat": 4,
  "nbformat_minor": 0,
  "metadata": {
    "colab": {
      "provenance": [],
      "include_colab_link": true
    },
    "kernelspec": {
      "name": "python3",
      "display_name": "Python 3"
    },
    "language_info": {
      "name": "python"
    }
  },
  "cells": [
    {
      "cell_type": "markdown",
      "metadata": {
        "id": "view-in-github",
        "colab_type": "text"
      },
      "source": [
        "<a href=\"https://colab.research.google.com/github/artem-dorofeev/py_DataScience_HW/blob/main/HW07.ipynb\" target=\"_parent\"><img src=\"https://colab.research.google.com/assets/colab-badge.svg\" alt=\"Open In Colab\"/></a>"
      ]
    },
    {
      "cell_type": "markdown",
      "metadata": {
        "id": "fJyNE_oTkW4J"
      },
      "source": [
        "## Рекомендаційна система"
      ]
    },
    {
      "cell_type": "markdown",
      "metadata": {
        "id": "29PZwIIfG2vr"
      },
      "source": [
        "### Етап 1. Підготовка даних"
      ]
    },
    {
      "cell_type": "code",
      "source": [
        "!pip install scikit-surprise"
      ],
      "metadata": {
        "colab": {
          "base_uri": "https://localhost:8080/"
        },
        "id": "jamJh2fGEy7c",
        "outputId": "b352fe36-2dc0-4640-a5a7-c27440518fcf"
      },
      "execution_count": 2,
      "outputs": [
        {
          "output_type": "stream",
          "name": "stdout",
          "text": [
            "Collecting scikit-surprise\n",
            "  Downloading scikit-surprise-1.1.3.tar.gz (771 kB)\n",
            "\u001b[2K     \u001b[90m━━━━━━━━━━━━━━━━━━━━━━━━━━━━━━━━━━━━━━━━\u001b[0m \u001b[32m772.0/772.0 kB\u001b[0m \u001b[31m8.9 MB/s\u001b[0m eta \u001b[36m0:00:00\u001b[0m\n",
            "\u001b[?25h  Preparing metadata (setup.py) ... \u001b[?25l\u001b[?25hdone\n",
            "Requirement already satisfied: joblib>=1.0.0 in /usr/local/lib/python3.10/dist-packages (from scikit-surprise) (1.3.2)\n",
            "Requirement already satisfied: numpy>=1.17.3 in /usr/local/lib/python3.10/dist-packages (from scikit-surprise) (1.25.2)\n",
            "Requirement already satisfied: scipy>=1.3.2 in /usr/local/lib/python3.10/dist-packages (from scikit-surprise) (1.11.4)\n",
            "Building wheels for collected packages: scikit-surprise\n",
            "  Building wheel for scikit-surprise (setup.py) ... \u001b[?25l\u001b[?25hdone\n",
            "  Created wheel for scikit-surprise: filename=scikit_surprise-1.1.3-cp310-cp310-linux_x86_64.whl size=3163004 sha256=3905f63cc1a11b091d0aee098853b4dbab31233c0721065a97cee61be9555f78\n",
            "  Stored in directory: /root/.cache/pip/wheels/a5/ca/a8/4e28def53797fdc4363ca4af740db15a9c2f1595ebc51fb445\n",
            "Successfully built scikit-surprise\n",
            "Installing collected packages: scikit-surprise\n",
            "Successfully installed scikit-surprise-1.1.3\n"
          ]
        }
      ]
    },
    {
      "cell_type": "code",
      "source": [
        "from surprise import Dataset, Reader\n",
        "from surprise.model_selection import train_test_split\n",
        "from surprise import accuracy\n",
        "from surprise import SVD\n",
        "from surprise.model_selection import cross_validate\n",
        "from surprise.model_selection import GridSearchCV\n",
        "from surprise import SVDpp\n",
        "from surprise import NMF"
      ],
      "metadata": {
        "id": "H_TboprNGBF8"
      },
      "execution_count": 4,
      "outputs": []
    },
    {
      "cell_type": "code",
      "source": [
        "ds_ml100k = Dataset.load_builtin('ml-100k')\n",
        "\n",
        "trainset, testset = train_test_split(ds_ml100k, test_size=0.25)\n",
        "\n",
        "model = SVD()\n",
        "model.fit(trainset)\n",
        "\n",
        "predictions = model.test(testset)\n",
        "\n",
        "accuracy.rmse(predictions)\n",
        "\n",
        "# У цьому коді ми використовуємо модель SVD для рекомендацій та оцінюємо її точність на тестовій вибірці."
      ],
      "metadata": {
        "colab": {
          "base_uri": "https://localhost:8080/"
        },
        "id": "6OgHSvhXLq11",
        "outputId": "44861bdc-07dc-47cb-f48e-34369b064a95"
      },
      "execution_count": 5,
      "outputs": [
        {
          "output_type": "stream",
          "name": "stdout",
          "text": [
            "Dataset ml-100k could not be found. Do you want to download it? [Y/n] y\n",
            "Trying to download dataset from https://files.grouplens.org/datasets/movielens/ml-100k.zip...\n",
            "Done! Dataset ml-100k has been saved to /root/.surprise_data/ml-100k\n",
            "RMSE: 0.9441\n"
          ]
        },
        {
          "output_type": "execute_result",
          "data": {
            "text/plain": [
              "0.9440944011559843"
            ]
          },
          "metadata": {},
          "execution_count": 5
        }
      ]
    },
    {
      "cell_type": "code",
      "source": [
        "param_grid = {'n_epochs': [5, 10, 15], 'lr_all': [0.002, 0.005, 0.01], 'reg_all': [0.02, 0.1, 0.2]}\n",
        "\n",
        "svd = SVD()\n",
        "\n",
        "grid_search = GridSearchCV(SVD, param_grid, measures=['rmse', 'mae'], cv=3)\n",
        "\n",
        "grid_search.fit(ds_ml100k)\n",
        "\n",
        "print(\"Best parameters found:\", grid_search.best_params)\n",
        "print(\"Best RMSE score:\", grid_search.best_score['rmse'])\n",
        "print(\"Best MAE score:\", grid_search.best_score['mae'])\n",
        "\n",
        "# У цьому прикладі ми визначаємо параметри n_epochs, lr_all та reg_all, і GridSearchCV спробує всі можливі комбінації цих параметрів,\n",
        "# використовуючи крос-валідацію та оцінюючи модель за метриками RMSE та MAE.\n"
      ],
      "metadata": {
        "colab": {
          "base_uri": "https://localhost:8080/"
        },
        "id": "aT2mnaZ_OQAO",
        "outputId": "24a4a3b0-0a79-452e-ac80-d9c0cfcd7c63"
      },
      "execution_count": 6,
      "outputs": [
        {
          "output_type": "stream",
          "name": "stdout",
          "text": [
            "Best parameters found: {'rmse': {'n_epochs': 15, 'lr_all': 0.01, 'reg_all': 0.1}, 'mae': {'n_epochs': 15, 'lr_all': 0.01, 'reg_all': 0.1}}\n",
            "Best RMSE score: 0.935783366014447\n",
            "Best MAE score: 0.7415951600056089\n"
          ]
        }
      ]
    },
    {
      "cell_type": "code",
      "source": [
        "best_params = grid_search.best_params['rmse']\n",
        "\n",
        "final_model = SVD(n_epochs=best_params['n_epochs'], lr_all=best_params['lr_all'], reg_all=best_params['reg_all'])\n",
        "\n",
        "trainset = ds_ml100k.build_full_trainset()\n",
        "final_model.fit(trainset)\n",
        "\n",
        "user_id = str(150)\n",
        "item_id = str(302)\n",
        "prediction = final_model.predict(user_id, item_id)\n",
        "\n",
        "print(f\"Prediction for user {user_id} and item {item_id}: {prediction.est}\")\n",
        "\n",
        "# З цим кодом ми отримаємо прогнозований рейтинг для конкретного користувача та елемента на основі побудованої моделі."
      ],
      "metadata": {
        "colab": {
          "base_uri": "https://localhost:8080/"
        },
        "id": "vh3gQ0J7R7Pu",
        "outputId": "d4c700a5-5157-437a-d802-e8a344c700e9"
      },
      "execution_count": 7,
      "outputs": [
        {
          "output_type": "stream",
          "name": "stdout",
          "text": [
            "Prediction for user 150 and item 302: 4.405669356911792\n"
          ]
        }
      ]
    },
    {
      "cell_type": "markdown",
      "source": [
        "*також поекспериментуйте з іншими алгоритмами розрахунків (SVD++, NMF) і оберіть той, який буде оптимальним.*"
      ],
      "metadata": {
        "id": "NGBh8IIiTTAL"
      }
    },
    {
      "cell_type": "code",
      "source": [
        "svdpp = SVDpp()\n",
        "\n",
        "\n",
        "grid_search_svdpp = GridSearchCV(SVDpp, param_grid, measures=['rmse', 'mae'], cv=3)\n",
        "grid_search_svdpp.fit(ds_ml100k)\n",
        "\n",
        "print(\"Best parameters found for SVD++:\", grid_search_svdpp.best_params)\n",
        "print(\"Best RMSE score for SVD++:\", grid_search_svdpp.best_score['rmse'])\n",
        "print(\"Best MAE score for SVD++:\", grid_search_svdpp.best_score['mae'])\n"
      ],
      "metadata": {
        "colab": {
          "base_uri": "https://localhost:8080/"
        },
        "id": "raEpiaIcTbk3",
        "outputId": "4eb048ba-5df0-4e78-e442-5fdd26658616"
      },
      "execution_count": 8,
      "outputs": [
        {
          "output_type": "stream",
          "name": "stdout",
          "text": [
            "Best parameters found for SVD++: {'rmse': {'n_epochs': 10, 'lr_all': 0.01, 'reg_all': 0.02}, 'mae': {'n_epochs': 15, 'lr_all': 0.01, 'reg_all': 0.02}}\n",
            "Best RMSE score for SVD++: 0.9279381601976886\n",
            "Best MAE score for SVD++: 0.7285405494859094\n"
          ]
        }
      ]
    },
    {
      "cell_type": "markdown",
      "source": [
        "*SVDpp - дуже довге виконання, майже 20хв*"
      ],
      "metadata": {
        "id": "k-pVhqUjVTuv"
      }
    },
    {
      "cell_type": "code",
      "source": [
        "best_params_svdpp = grid_search_svdpp.best_params['rmse']\n",
        "\n",
        "final_model_svdpp = SVDpp(**best_params_svdpp)\n",
        "\n",
        "trainset_svdpp = ds_ml100k.build_full_trainset()\n",
        "final_model_svdpp.fit(trainset_svdpp)\n",
        "\n",
        "# user_id = str(150)\n",
        "# item_id = str(302)\n",
        "prediction_svdpp = final_model_svdpp.predict(user_id, item_id)\n",
        "\n",
        "print(f\"Prediction for user {user_id} and item {item_id}: {prediction_svdpp.est}\")\n"
      ],
      "metadata": {
        "colab": {
          "base_uri": "https://localhost:8080/"
        },
        "id": "6eF4Px97hX_7",
        "outputId": "1321c09a-f315-4f5e-8ded-d4770805fd82"
      },
      "execution_count": 9,
      "outputs": [
        {
          "output_type": "stream",
          "name": "stdout",
          "text": [
            "Prediction for user 150 and item 302: 4.44113872154265\n"
          ]
        }
      ]
    },
    {
      "cell_type": "code",
      "source": [
        "nmf = NMF()\n",
        "\n",
        "param_grid_nmf = {'n_factors': [5, 10, 15], 'n_epochs': [10, 15], 'reg_pu': [0.02, 0.1, 0.2], 'reg_qi': [0.02, 0.1, 0.2]}\n",
        "grid_search_nmf = GridSearchCV(NMF, param_grid_nmf, measures=['rmse', 'mae'], cv=3)\n",
        "grid_search_nmf.fit(ds_ml100k)\n",
        "\n",
        "\n",
        "print(\"Best parameters found for NMF:\", grid_search_nmf.best_params)\n",
        "print(\"Best RMSE score for NMF:\", grid_search_nmf.best_score['rmse'])\n",
        "print(\"Best MAE score for NMF:\", grid_search_nmf.best_score['mae'])\n"
      ],
      "metadata": {
        "colab": {
          "base_uri": "https://localhost:8080/"
        },
        "id": "TC8MOxbvTmRT",
        "outputId": "384e9f2f-ae14-41e3-9fa1-283532e85db1"
      },
      "execution_count": 11,
      "outputs": [
        {
          "output_type": "stream",
          "name": "stdout",
          "text": [
            "Best parameters found for NMF: {'rmse': {'n_factors': 10, 'n_epochs': 15, 'reg_pu': 0.1, 'reg_qi': 0.2}, 'mae': {'n_factors': 5, 'n_epochs': 15, 'reg_pu': 0.2, 'reg_qi': 0.2}}\n",
            "Best RMSE score for NMF: 0.9645511143908981\n",
            "Best MAE score for NMF: 0.7540425805128521\n"
          ]
        }
      ]
    },
    {
      "cell_type": "code",
      "source": [
        "best_params_nmf = grid_search_nmf.best_params['rmse']\n",
        "\n",
        "final_model_nmf = NMF(**best_params_nmf)\n",
        "\n",
        "trainset_nmf = ds_ml100k.build_full_trainset()\n",
        "final_model_nmf.fit(trainset_nmf)\n",
        "\n",
        "# user_id = str(150)\n",
        "# item_id = str(302)\n",
        "prediction_nmf = final_model_nmf.predict(user_id, item_id)\n",
        "\n",
        "print(f\"Prediction for user {user_id} and item {item_id}: {prediction_nmf.est}\")"
      ],
      "metadata": {
        "colab": {
          "base_uri": "https://localhost:8080/"
        },
        "id": "Q3uNy5RflLTJ",
        "outputId": "39c11710-68f6-4d0f-d6a5-f8ce81f4c406"
      },
      "execution_count": 12,
      "outputs": [
        {
          "output_type": "stream",
          "name": "stdout",
          "text": [
            "Prediction for user 150 and item 302: 4.2579098067936\n"
          ]
        }
      ]
    },
    {
      "cell_type": "code",
      "source": [
        "print(f\"Prediction svd for user {user_id} and item {item_id}: {prediction.est}, RMSE: {grid_search.best_score['rmse']}\")\n",
        "print(f\"Prediction svdpp for user {user_id} and item {item_id}: {prediction_svdpp.est}, RMSE: {grid_search_svdpp.best_score['rmse']}\")\n",
        "print(f\"Prediction nmf for user {user_id} and item {item_id}: {prediction_nmf.est}, RMSE: {grid_search_nmf.best_score['rmse']}\")"
      ],
      "metadata": {
        "colab": {
          "base_uri": "https://localhost:8080/"
        },
        "id": "yx409ayylZ6r",
        "outputId": "f1d4de0d-2ab3-4c1a-c462-433d01157059"
      },
      "execution_count": 13,
      "outputs": [
        {
          "output_type": "stream",
          "name": "stdout",
          "text": [
            "Prediction svd for user 150 and item 302: 4.405669356911792, RMSE: 0.935783366014447\n",
            "Prediction svdpp for user 150 and item 302: 4.44113872154265, RMSE: 0.9279381601976886\n",
            "Prediction nmf for user 150 and item 302: 4.2579098067936, RMSE: 0.9645511143908981\n"
          ]
        }
      ]
    }
  ]
}