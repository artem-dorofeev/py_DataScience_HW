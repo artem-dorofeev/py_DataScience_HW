{
  "nbformat": 4,
  "nbformat_minor": 0,
  "metadata": {
    "colab": {
      "provenance": [],
      "authorship_tag": "ABX9TyPoVGljUj9zYehz0TNR1zEj",
      "include_colab_link": true
    },
    "kernelspec": {
      "name": "python3",
      "display_name": "Python 3"
    },
    "language_info": {
      "name": "python"
    }
  },
  "cells": [
    {
      "cell_type": "markdown",
      "metadata": {
        "id": "view-in-github",
        "colab_type": "text"
      },
      "source": [
        "<a href=\"https://colab.research.google.com/github/artem-dorofeev/py_DataScience_HW/blob/main/hw1_py_ds.ipynb\" target=\"_parent\"><img src=\"https://colab.research.google.com/assets/colab-badge.svg\" alt=\"Open In Colab\"/></a>"
      ]
    },
    {
      "cell_type": "markdown",
      "source": [
        "1. Створіть одновимірний масив (вектор) з першими 10-ма натуральними числами та виведіть його значення."
      ],
      "metadata": {
        "id": "KpvnuDs0DkR1"
      }
    },
    {
      "cell_type": "code",
      "execution_count": 1,
      "metadata": {
        "colab": {
          "base_uri": "https://localhost:8080/"
        },
        "id": "ZBHVRRXjBPRv",
        "outputId": "159ba865-3d31-4dac-dff4-224787c1088e"
      },
      "outputs": [
        {
          "output_type": "stream",
          "name": "stdout",
          "text": [
            "[0 1 2 3 4 5 6 7 8 9]\n"
          ]
        }
      ],
      "source": [
        "import numpy as np\n",
        "vector = np.array([0, 1, 2, 3, 4, 5, 6, 7, 8, 9], dtype=int)\n",
        "print(vector)"
      ]
    },
    {
      "cell_type": "markdown",
      "source": [
        "2. Створіть двовимірний масив (матрицю) розміром 3x3, заповніть його нулями та виведіть його значення."
      ],
      "metadata": {
        "id": "cdRUHZlqDxks"
      }
    },
    {
      "cell_type": "code",
      "source": [
        "matrix = np.array([[0, 0, 0], [0, 0, 0]], dtype=int)\n",
        "\n",
        "print(matrix)"
      ],
      "metadata": {
        "colab": {
          "base_uri": "https://localhost:8080/"
        },
        "id": "T9PveJGhC3wl",
        "outputId": "3375ed3a-e08f-4de2-d802-d45b980b7186"
      },
      "execution_count": 2,
      "outputs": [
        {
          "output_type": "stream",
          "name": "stdout",
          "text": [
            "[[0 0 0]\n",
            " [0 0 0]]\n"
          ]
        }
      ]
    },
    {
      "cell_type": "markdown",
      "source": [
        "3. Створіть масив розміром 5x5, заповніть його випадковими цілими числами в діапазоні від 1 до 10 та виведіть його значення."
      ],
      "metadata": {
        "id": "TW-0UqEnD5UC"
      }
    },
    {
      "cell_type": "code",
      "source": [
        "matrix_3 = np.random.randint(1, 11, size=(5, 5))\n",
        "\n",
        "print(matrix_3)"
      ],
      "metadata": {
        "colab": {
          "base_uri": "https://localhost:8080/"
        },
        "id": "maNud2mqDh6I",
        "outputId": "8e2734c4-6af5-4a04-ce84-66837e6b49c9"
      },
      "execution_count": 3,
      "outputs": [
        {
          "output_type": "stream",
          "name": "stdout",
          "text": [
            "[[ 1 10 10  6  1]\n",
            " [10  3  9  1  3]\n",
            " [ 5  3  5  9  2]\n",
            " [ 4  7  3  3  8]\n",
            " [ 8  5 10  7 10]]\n"
          ]
        }
      ]
    },
    {
      "cell_type": "markdown",
      "source": [
        "4. Створіть масив розміром 4x4, заповніть його випадковими дійсними числами в діапазоні від 0 до 1 та виведіть його значення."
      ],
      "metadata": {
        "id": "jEVbw3QIGB1k"
      }
    },
    {
      "cell_type": "code",
      "source": [
        "matrix_4 = np.random.rand(4, 4)\n",
        "\n",
        "print(matrix_4)"
      ],
      "metadata": {
        "colab": {
          "base_uri": "https://localhost:8080/"
        },
        "id": "idgcJTN6Gmc0",
        "outputId": "2c160263-1d61-448e-bcc0-a806aceeef39"
      },
      "execution_count": 4,
      "outputs": [
        {
          "output_type": "stream",
          "name": "stdout",
          "text": [
            "[[0.68830176 0.43072494 0.24004444 0.85933608]\n",
            " [0.32001878 0.05478612 0.22672464 0.84264328]\n",
            " [0.15148119 0.80874924 0.17590954 0.81662632]\n",
            " [0.27016514 0.03457038 0.5480271  0.49061507]]\n"
          ]
        }
      ]
    },
    {
      "cell_type": "markdown",
      "source": [
        "5. Створіть два одновимірних масиви розміром 5, заповніть їх випадковими цілими числами в діапазоні від 1 до 10 та виконайте на них поелементні операції додавання, віднімання та множення."
      ],
      "metadata": {
        "id": "zPsPLwCFIQ8O"
      }
    },
    {
      "cell_type": "code",
      "source": [
        "matrix_5_1 = np.random.randint(1, 11, size=(5, 5))\n",
        "matrix_5_2 = np.random.randint(1, 11, size=(5, 5))\n",
        "\n",
        "m_sum = matrix_5_1 + matrix_5_2\n",
        "m_sub = matrix_5_1 - matrix_5_2\n",
        "m_mult = matrix_5_1 * matrix_5_2\n",
        "\n",
        "print(f\"{matrix_5_1} \\n\\n {matrix_5_2} \\n\\n {m_sum} \\n\\n {m_sub} \\n\\n {m_mult}\")\n"
      ],
      "metadata": {
        "id": "NF9EtGjrIdtT",
        "colab": {
          "base_uri": "https://localhost:8080/"
        },
        "outputId": "c463fb17-491c-459e-beac-e390f4299021"
      },
      "execution_count": 6,
      "outputs": [
        {
          "output_type": "stream",
          "name": "stdout",
          "text": [
            "[[ 6  4  3  6  2]\n",
            " [ 5  6  8  4  7]\n",
            " [ 3  4  6  8 10]\n",
            " [10  1  5  8  2]\n",
            " [ 2  6  3  5  7]] \n",
            "\n",
            " [[ 7  7  6  3 10]\n",
            " [ 3  9  5  5  7]\n",
            " [ 1  8  9  4  3]\n",
            " [ 8  5  2  4 10]\n",
            " [10  4  1  3 10]] \n",
            "\n",
            " [[13 11  9  9 12]\n",
            " [ 8 15 13  9 14]\n",
            " [ 4 12 15 12 13]\n",
            " [18  6  7 12 12]\n",
            " [12 10  4  8 17]] \n",
            "\n",
            " [[-1 -3 -3  3 -8]\n",
            " [ 2 -3  3 -1  0]\n",
            " [ 2 -4 -3  4  7]\n",
            " [ 2 -4  3  4 -8]\n",
            " [-8  2  2  2 -3]] \n",
            "\n",
            " [[42 28 18 18 20]\n",
            " [15 54 40 20 49]\n",
            " [ 3 32 54 32 30]\n",
            " [80  5 10 32 20]\n",
            " [20 24  3 15 70]]\n"
          ]
        }
      ]
    },
    {
      "cell_type": "markdown",
      "source": [
        "6. Створіть два вектори розміром 7, заповніть довільними числами та знайдіть їх скалярний добуток."
      ],
      "metadata": {
        "id": "VurE-g6kLq2q"
      }
    },
    {
      "cell_type": "code",
      "source": [
        "vector_6_1 = np.random.randint(1, 11, size=(7))\n",
        "vector_6_2 = np.random.randint(1, 11, size=(7))\n",
        "\n",
        "v_scalar = np.dot(vector_6_1, vector_6_2)\n",
        "\n",
        "print(f\"{vector_6_1} \\n\\n {vector_6_2} \\n\\n {vector_6_1 * vector_6_2} \\n\\n {v_scalar}\")\n"
      ],
      "metadata": {
        "id": "wdj4vqEwLyfZ",
        "colab": {
          "base_uri": "https://localhost:8080/"
        },
        "outputId": "5d88503c-c98a-4d51-bcdc-1b280e22a652"
      },
      "execution_count": 7,
      "outputs": [
        {
          "output_type": "stream",
          "name": "stdout",
          "text": [
            "[3 4 5 7 1 3 2] \n",
            "\n",
            " [6 4 6 6 3 7 8] \n",
            "\n",
            " [18 16 30 42  3 21 16] \n",
            "\n",
            " 146\n"
          ]
        }
      ]
    },
    {
      "cell_type": "markdown",
      "source": [
        "7. Створіть дві матриці розміром 2x2 та 2x3, заповніть їх випадковими цілими числами в діапазоні від 1 до 10 та перемножте їх між собою."
      ],
      "metadata": {
        "id": "9lf5CA_mNXRq"
      }
    },
    {
      "cell_type": "code",
      "source": [
        "matrix_7_1 = np.random.randint(1, 11, size=(2, 2))\n",
        "matrix_7_2 = np.random.randint(1, 11, size=(2, 3))\n",
        "\n",
        "m_dot = np.dot(matrix_7_1, matrix_7_2)\n",
        "\n",
        "print(f\"{matrix_7_1} \\n \\n {matrix_7_2} \\n\\n {m_dot}\")"
      ],
      "metadata": {
        "id": "aa2FD3rrNfY-",
        "colab": {
          "base_uri": "https://localhost:8080/"
        },
        "outputId": "bc084141-30aa-417c-e666-af9e47970e8b"
      },
      "execution_count": 8,
      "outputs": [
        {
          "output_type": "stream",
          "name": "stdout",
          "text": [
            "[[4 7]\n",
            " [2 7]] \n",
            " \n",
            " [[ 9 10  4]\n",
            " [ 8  3  2]] \n",
            "\n",
            " [[92 61 30]\n",
            " [74 41 22]]\n"
          ]
        }
      ]
    },
    {
      "cell_type": "markdown",
      "source": [
        "8. Створіть матрицю розміром 3x3, заповніть її випадковими цілими числами в діапазоні від 1 до 10 та знайдіть її обернену матрицю."
      ],
      "metadata": {
        "id": "wgRT8tq3P9mh"
      }
    },
    {
      "cell_type": "code",
      "source": [
        "matrix_8_1 = np.random.rand(3, 3)\n",
        "\n",
        "m_inv = np.linalg.inv(matrix_8_1)\n",
        "\n",
        "print(f\"{matrix_8_1} \\n \\n {m_inv}\")"
      ],
      "metadata": {
        "id": "DxlVvuXcQFPy",
        "colab": {
          "base_uri": "https://localhost:8080/"
        },
        "outputId": "6334bfe6-2ce8-4992-dd63-8d9aa74c0c38"
      },
      "execution_count": 9,
      "outputs": [
        {
          "output_type": "stream",
          "name": "stdout",
          "text": [
            "[[0.85381565 0.49693708 0.08763359]\n",
            " [0.41414355 0.3458976  0.46071595]\n",
            " [0.90626161 0.43371345 0.90515885]] \n",
            " \n",
            " [[ 1.06674979 -3.87810366  1.8706342 ]\n",
            " [ 0.40178179  6.53025662 -3.36272795]\n",
            " [-1.2605661   0.75380843  0.84314082]]\n"
          ]
        }
      ]
    },
    {
      "cell_type": "markdown",
      "source": [
        "9. Створіть матрицю розміром 4x4, заповніть її випадковими дійсними числами в діапазоні від 0 до 1 та транспонуйте її."
      ],
      "metadata": {
        "id": "lvpHyIHBRoPe"
      }
    },
    {
      "cell_type": "code",
      "source": [
        "matrix_9_1 = np.random.randint(1, 11, size=(4, 4))\n",
        "\n",
        "m_trans = matrix_9_1.T\n",
        "\n",
        "print(f\"{matrix_9_1} \\n \\n {m_trans}\")"
      ],
      "metadata": {
        "id": "rqVo-YjbRqYJ",
        "colab": {
          "base_uri": "https://localhost:8080/"
        },
        "outputId": "66d9a72b-1f89-45f6-dfaf-942d931d046d"
      },
      "execution_count": 10,
      "outputs": [
        {
          "output_type": "stream",
          "name": "stdout",
          "text": [
            "[[10  1  9  6]\n",
            " [ 2  5  8  2]\n",
            " [ 7  6  7  9]\n",
            " [ 5  4  3  6]] \n",
            " \n",
            " [[10  2  7  5]\n",
            " [ 1  5  6  4]\n",
            " [ 9  8  7  3]\n",
            " [ 6  2  9  6]]\n"
          ]
        }
      ]
    },
    {
      "cell_type": "markdown",
      "source": [
        "10. Створіть матрицю розміром 3x4 та вектор розміром 4, заповніть їх випадковими цілими числами в діапазоні від 1 до 10 та перемножте матрицю на вектор."
      ],
      "metadata": {
        "id": "5m9tA1FqSVRe"
      }
    },
    {
      "cell_type": "code",
      "source": [
        "matrix_10_1 = np.random.randint(1, 11, size=(3, 4))\n",
        "vector_10_1 = np.random.randint(1, 11, size=(4))\n",
        "\n",
        "m_dot_v = np.dot(matrix_10_1, vector_10_1)\n",
        "\n",
        "print(f\"{matrix_10_1} \\n \\n {vector_10_1} \\n \\n {m_dot_v}\")\n"
      ],
      "metadata": {
        "id": "IOQ7LYAEI5rT",
        "colab": {
          "base_uri": "https://localhost:8080/"
        },
        "outputId": "09580b63-3cb9-4733-f22e-df37b5be5579"
      },
      "execution_count": 11,
      "outputs": [
        {
          "output_type": "stream",
          "name": "stdout",
          "text": [
            "[[7 9 2 3]\n",
            " [5 4 2 5]\n",
            " [8 2 4 7]] \n",
            " \n",
            " [6 6 9 1] \n",
            " \n",
            " [117  77 103]\n"
          ]
        }
      ]
    },
    {
      "cell_type": "markdown",
      "source": [
        "11. Створіть матрицю розміром 2x3 та вектор розміром 3, заповніть їх випадковими дійсними числами в діапазоні від 0 до 1 та перемножте матрицю на вектор."
      ],
      "metadata": {
        "id": "bECfa5dfSZ6t"
      }
    },
    {
      "cell_type": "code",
      "source": [
        "matrix_11_1 = np.random.rand(2, 3)\n",
        "vector_11_1 = np.random.rand(3)\n",
        "\n",
        "m_dot_v = np.dot(matrix_11_1, vector_11_1)\n",
        "\n",
        "print(f\"{matrix_11_1} \\n \\n {vector_11_1} \\n \\n {m_dot_v}\")"
      ],
      "metadata": {
        "id": "VrntD5ymLheS",
        "colab": {
          "base_uri": "https://localhost:8080/"
        },
        "outputId": "921d74e0-f1b1-4371-9c17-36de1da2965d"
      },
      "execution_count": 12,
      "outputs": [
        {
          "output_type": "stream",
          "name": "stdout",
          "text": [
            "[[0.73766966 0.48982761 0.42432426]\n",
            " [0.65618213 0.56187322 0.28673851]] \n",
            " \n",
            " [0.4812314  0.70499163 0.3515041 ] \n",
            " \n",
            " [0.84946588 0.81268112]\n"
          ]
        }
      ]
    },
    {
      "cell_type": "markdown",
      "source": [
        "12. Створіть дві матриці розміром 2x2, заповніть їх випадковими цілими числами в діапазоні від 1 до 10 та виконайте їхнє поелементне множення."
      ],
      "metadata": {
        "id": "R_HPhlT1SfPT"
      }
    },
    {
      "cell_type": "code",
      "source": [
        "matrix_12_1 = np.random.randint(1, 11, size=(2, 2))\n",
        "matrix_12_2 = np.random.randint(1, 11, size=(2, 2))\n",
        "\n",
        "m_mult = matrix_12_1 * matrix_12_2\n",
        "\n",
        "print(f\"{matrix_12_1} \\n\\n {matrix_12_2} \\n\\n {m_mult}\")"
      ],
      "metadata": {
        "id": "Ty15Ly8uMFih",
        "colab": {
          "base_uri": "https://localhost:8080/"
        },
        "outputId": "5bd6e13d-9f01-4da5-a911-dce2df912203"
      },
      "execution_count": 13,
      "outputs": [
        {
          "output_type": "stream",
          "name": "stdout",
          "text": [
            "[[4 5]\n",
            " [4 2]] \n",
            "\n",
            " [[10 10]\n",
            " [ 4  6]] \n",
            "\n",
            " [[40 50]\n",
            " [16 12]]\n"
          ]
        }
      ]
    },
    {
      "cell_type": "markdown",
      "source": [
        "13. Створіть дві матриці розміром 2x2, заповніть їх випадковими цілими числами в діапазоні від 1 до 10 та знайдіть їх добуток."
      ],
      "metadata": {
        "id": "mYSFKeFiSk_z"
      }
    },
    {
      "cell_type": "code",
      "source": [
        "matrix_13_1 = np.random.randint(1, 11, size=(2, 2))\n",
        "matrix_13_2 = np.random.randint(1, 11, size=(2, 2))\n",
        "\n",
        "m_dot = np.dot(matrix_13_1, matrix_13_2)\n",
        "\n",
        "print(f\"{matrix_13_1} \\n\\n {matrix_13_2} \\n\\n {m_dot}\")"
      ],
      "metadata": {
        "id": "z2D8TPQCMsZr",
        "colab": {
          "base_uri": "https://localhost:8080/"
        },
        "outputId": "724f04b5-a05b-4045-c647-8adbb858c7ad"
      },
      "execution_count": 14,
      "outputs": [
        {
          "output_type": "stream",
          "name": "stdout",
          "text": [
            "[[ 1  3]\n",
            " [ 1 10]] \n",
            "\n",
            " [[4 2]\n",
            " [7 7]] \n",
            "\n",
            " [[25 23]\n",
            " [74 72]]\n"
          ]
        }
      ]
    },
    {
      "cell_type": "markdown",
      "source": [
        "14. Створіть матрицю розміром 5x5, заповніть її випадковими цілими числами в діапазоні від 1 до 100 та знайдіть суму елементів матриці."
      ],
      "metadata": {
        "id": "zMbeYWmxSpzz"
      }
    },
    {
      "cell_type": "code",
      "source": [
        "matrix_14_1 = np.random.randint(1, 101, size=(5, 5))\n",
        "\n",
        "m_sum = np.sum(matrix_14_1)\n",
        "\n",
        "print(f\"{matrix_14_1} \\n\\n {m_sum}\")"
      ],
      "metadata": {
        "id": "w-slhjL_NDm9",
        "colab": {
          "base_uri": "https://localhost:8080/"
        },
        "outputId": "fbb1976f-9aa5-4f26-fbed-4032b28b7997"
      },
      "execution_count": 15,
      "outputs": [
        {
          "output_type": "stream",
          "name": "stdout",
          "text": [
            "[[90 48 86 18 50]\n",
            " [68 80 98 75 46]\n",
            " [24 57 83 82 29]\n",
            " [77 36 97 50 63]\n",
            " [44 76 14 16 73]] \n",
            "\n",
            " 1480\n"
          ]
        }
      ]
    },
    {
      "cell_type": "markdown",
      "source": [
        "15. Створіть дві матриці розміром 4x4, заповніть їх випадковими цілими числами в діапазоні від 1 до 10 та знайдіть їхню різницю."
      ],
      "metadata": {
        "id": "WBpvCgzJStbD"
      }
    },
    {
      "cell_type": "code",
      "source": [
        "matrix_15_1 = np.random.randint(1, 11, size=(4, 4))\n",
        "matrix_15_2 = np.random.randint(1, 11, size=(4, 4))\n",
        "\n",
        "m_sub = matrix_15_1 - matrix_15_2\n",
        "\n",
        "print(f\"{matrix_15_1} \\n\\n {matrix_15_2} \\n\\n {m_sub}\")"
      ],
      "metadata": {
        "id": "DG5rKAPEOcJB",
        "colab": {
          "base_uri": "https://localhost:8080/"
        },
        "outputId": "900cf6b6-67a8-4870-a188-b37f10d23aa1"
      },
      "execution_count": 16,
      "outputs": [
        {
          "output_type": "stream",
          "name": "stdout",
          "text": [
            "[[ 4  1  8  1]\n",
            " [10  5  8  3]\n",
            " [ 4  1  5 10]\n",
            " [ 6  6  9  1]] \n",
            "\n",
            " [[10  2  4  2]\n",
            " [ 7  4  2  7]\n",
            " [ 6  9  7  4]\n",
            " [ 4  1  1  1]] \n",
            "\n",
            " [[-6 -1  4 -1]\n",
            " [ 3  1  6 -4]\n",
            " [-2 -8 -2  6]\n",
            " [ 2  5  8  0]]\n"
          ]
        }
      ]
    },
    {
      "cell_type": "markdown",
      "source": [
        "16. Створіть матрицю розміром 3x3, заповніть її випадковими дійсними числами в діапазоні від 0 до 1 та знайдіть вектор-стовпчик, що містить суму елементів кожного рядка матриці."
      ],
      "metadata": {
        "id": "25BMFbU0Swx7"
      }
    },
    {
      "cell_type": "code",
      "source": [
        "matrix_16_1 = np.random.rand(3, 3)\n",
        "\n",
        "v_sums = np.sum(matrix_16_1, axis=1, keepdims=True)\n",
        "# v_sums2 = np.sum(matrix_16_1, axis=1, keepdims=False)\n",
        "\n",
        "print(f\"{matrix_16_1} \\n\\n {v_sums} \")"
      ],
      "metadata": {
        "id": "xWnzQQ8tQO_c",
        "colab": {
          "base_uri": "https://localhost:8080/"
        },
        "outputId": "532cbbae-a670-42f5-c6a4-d9525c5ca5f0"
      },
      "execution_count": 17,
      "outputs": [
        {
          "output_type": "stream",
          "name": "stdout",
          "text": [
            "[[0.31983966 0.99420701 0.77385324]\n",
            " [0.85806804 0.62296717 0.53356337]\n",
            " [0.67805022 0.5832313  0.90583958]] \n",
            "\n",
            " [[2.08789991]\n",
            " [2.01459857]\n",
            " [2.1671211 ]] \n"
          ]
        }
      ]
    },
    {
      "cell_type": "markdown",
      "source": [
        "17. Створіть матрицю розміром 3x4 з довільними цілими числами і створінь матрицю з квадратами цих чисел."
      ],
      "metadata": {
        "id": "EQNDj35RS2Q9"
      }
    },
    {
      "cell_type": "code",
      "source": [
        "matrix_17_1 = np.random.randint(1, 11, size=(3, 4))\n",
        "\n",
        "m_squa = np.square(matrix_17_1)\n",
        "\n",
        "print(f\"{matrix_17_1} \\n\\n {m_squa}\")"
      ],
      "metadata": {
        "id": "UuWa0g2vSrae",
        "colab": {
          "base_uri": "https://localhost:8080/"
        },
        "outputId": "cce703b2-2c28-4b0b-e4b1-2c31793f778e"
      },
      "execution_count": 18,
      "outputs": [
        {
          "output_type": "stream",
          "name": "stdout",
          "text": [
            "[[ 4  2 10  1]\n",
            " [ 1  1  1  6]\n",
            " [ 4  2  6  7]] \n",
            "\n",
            " [[ 16   4 100   1]\n",
            " [  1   1   1  36]\n",
            " [ 16   4  36  49]]\n"
          ]
        }
      ]
    },
    {
      "cell_type": "markdown",
      "source": [
        "18. Створіть вектор розміром 4, заповніть його випадковими цілими числами в діапазоні від 1 до 50 та знайдіть вектор з квадратними коренями цих чисел."
      ],
      "metadata": {
        "id": "asg7cmDbS5cF"
      }
    },
    {
      "cell_type": "code",
      "source": [
        "vector_18_1 = np.random.randint(1, 51, size=(4))\n",
        "\n",
        "v_sqrt = np.sqrt(vector_18_1)\n",
        "\n",
        "print(f\"{vector_18_1} \\n\\n {v_sqrt }\")\n"
      ],
      "metadata": {
        "id": "VWFQyeYsTL6a",
        "colab": {
          "base_uri": "https://localhost:8080/"
        },
        "outputId": "0c54802b-7568-4daa-8955-8fa55aa878a4"
      },
      "execution_count": 19,
      "outputs": [
        {
          "output_type": "stream",
          "name": "stdout",
          "text": [
            "[40  4  7  2] \n",
            "\n",
            " [6.32455532 2.         2.64575131 1.41421356]\n"
          ]
        }
      ]
    }
  ]
}