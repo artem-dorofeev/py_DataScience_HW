{
  "nbformat": 4,
  "nbformat_minor": 0,
  "metadata": {
    "colab": {
      "provenance": [],
      "authorship_tag": "ABX9TyOOuFtwBUbQ2fBsmqci+dxV",
      "include_colab_link": true
    },
    "kernelspec": {
      "name": "python3",
      "display_name": "Python 3"
    },
    "language_info": {
      "name": "python"
    }
  },
  "cells": [
    {
      "cell_type": "markdown",
      "metadata": {
        "id": "view-in-github",
        "colab_type": "text"
      },
      "source": [
        "<a href=\"https://colab.research.google.com/github/artem-dorofeev/py_DataScience_HW/blob/main/hw1_py_ds.ipynb\" target=\"_parent\"><img src=\"https://colab.research.google.com/assets/colab-badge.svg\" alt=\"Open In Colab\"/></a>"
      ]
    },
    {
      "cell_type": "markdown",
      "source": [
        "1. Створіть одновимірний масив (вектор) з першими 10-ма натуральними числами та виведіть його значення."
      ],
      "metadata": {
        "id": "KpvnuDs0DkR1"
      }
    },
    {
      "cell_type": "code",
      "execution_count": null,
      "metadata": {
        "colab": {
          "base_uri": "https://localhost:8080/"
        },
        "id": "ZBHVRRXjBPRv",
        "outputId": "354530d6-bd22-4c5e-822a-b5c21010e8fc"
      },
      "outputs": [
        {
          "output_type": "stream",
          "name": "stdout",
          "text": [
            "[0 1 2 3 4 5 6 7 8 9]\n"
          ]
        }
      ],
      "source": [
        "import numpy as np\n",
        "vector = np.array([0, 1, 2, 3, 4, 5, 6, 7, 8, 9], dtype=int)\n",
        "print(vector)"
      ]
    },
    {
      "cell_type": "markdown",
      "source": [
        "2. Створіть двовимірний масив (матрицю) розміром 3x3, заповніть його нулями та виведіть його значення."
      ],
      "metadata": {
        "id": "cdRUHZlqDxks"
      }
    },
    {
      "cell_type": "code",
      "source": [
        "matrix = np.array([[0, 0, 0], [0, 0, 0]], dtype=int)\n",
        "\n",
        "print(matrix)"
      ],
      "metadata": {
        "colab": {
          "base_uri": "https://localhost:8080/"
        },
        "id": "T9PveJGhC3wl",
        "outputId": "d3b7c8fa-15a1-49e6-80d1-7b95ee0af6e4"
      },
      "execution_count": null,
      "outputs": [
        {
          "output_type": "stream",
          "name": "stdout",
          "text": [
            "[[0 0 0]\n",
            " [0 0 0]]\n"
          ]
        }
      ]
    },
    {
      "cell_type": "markdown",
      "source": [
        "3. Створіть масив розміром 5x5, заповніть його випадковими цілими числами в діапазоні від 1 до 10 та виведіть його значення."
      ],
      "metadata": {
        "id": "TW-0UqEnD5UC"
      }
    },
    {
      "cell_type": "code",
      "source": [
        "matrix_3 = np.random.randint(1, 11, size=(5, 5))\n",
        "\n",
        "print(matrix_3)"
      ],
      "metadata": {
        "colab": {
          "base_uri": "https://localhost:8080/"
        },
        "id": "maNud2mqDh6I",
        "outputId": "c582b60f-1a67-4eb7-ad9a-e935cead7818"
      },
      "execution_count": null,
      "outputs": [
        {
          "output_type": "stream",
          "name": "stdout",
          "text": [
            "[[ 9  9  8  9  1]\n",
            " [ 1 10  9  5  1]\n",
            " [ 2  8  9  3  3]\n",
            " [ 1  8  3  5  5]\n",
            " [ 7  5  1  4 10]]\n"
          ]
        }
      ]
    },
    {
      "cell_type": "markdown",
      "source": [
        "4. Створіть масив розміром 4x4, заповніть його випадковими дійсними числами в діапазоні від 0 до 1 та виведіть його значення."
      ],
      "metadata": {
        "id": "jEVbw3QIGB1k"
      }
    },
    {
      "cell_type": "code",
      "source": [
        "matrix_4 = np.random.rand(4, 4)\n",
        "\n",
        "print(matrix_4)"
      ],
      "metadata": {
        "colab": {
          "base_uri": "https://localhost:8080/"
        },
        "id": "idgcJTN6Gmc0",
        "outputId": "4bde7009-5864-4fe5-ca09-28157f8dd272"
      },
      "execution_count": null,
      "outputs": [
        {
          "output_type": "stream",
          "name": "stdout",
          "text": [
            "[[0.86969782 0.13844036 0.3724723  0.87764129]\n",
            " [0.00473141 0.399659   0.9090419  0.13854354]\n",
            " [0.73785857 0.65145742 0.40081291 0.75729305]\n",
            " [0.93431243 0.15221811 0.27796643 0.83717475]]\n"
          ]
        }
      ]
    },
    {
      "cell_type": "markdown",
      "source": [
        "5. Створіть два одновимірних масиви розміром 5, заповніть їх випадковими цілими числами в діапазоні від 1 до 10 та виконайте на них поелементні операції додавання, віднімання та множення."
      ],
      "metadata": {
        "id": "zPsPLwCFIQ8O"
      }
    },
    {
      "cell_type": "code",
      "source": [
        "matrix_5_1 = np.random.randint(1, 11, size=(5, 5))\n",
        "matrix_5_2 = np.random.randint(1, 11, size=(5, 5))\n",
        "\n",
        "m_sum = matrix_5_1 + matrix_5_2\n",
        "m_sub = matrix_5_1 - matrix_5_2\n",
        "m_mult = matrix_5_1 * matrix_5_2\n",
        "\n",
        "# print(f\"{matrix_5_1} \\n\\n {matrix_5_2} \\n\\n {m_sum} \\n\\n {m_sub} \\n\\n {m_mult}\")\n"
      ],
      "metadata": {
        "id": "NF9EtGjrIdtT"
      },
      "execution_count": null,
      "outputs": []
    },
    {
      "cell_type": "markdown",
      "source": [
        "6. Створіть два вектори розміром 7, заповніть довільними числами та знайдіть їх скалярний добуток."
      ],
      "metadata": {
        "id": "VurE-g6kLq2q"
      }
    },
    {
      "cell_type": "code",
      "source": [
        "vector_6_1 = np.random.randint(1, 11, size=(7))\n",
        "vector_6_2 = np.random.randint(1, 11, size=(7))\n",
        "\n",
        "v_scalar = np.dot(vector_6_1, vector_6_2)\n",
        "\n",
        "# print(f\"{vector_6_1} \\n\\n {vector_6_2} \\n\\n {vector_6_1 * vector_6_2} \\n\\n {v_scalar}\")\n"
      ],
      "metadata": {
        "id": "wdj4vqEwLyfZ"
      },
      "execution_count": null,
      "outputs": []
    },
    {
      "cell_type": "markdown",
      "source": [
        "7. Створіть дві матриці розміром 2x2 та 2x3, заповніть їх випадковими цілими числами в діапазоні від 1 до 10 та перемножте їх між собою."
      ],
      "metadata": {
        "id": "9lf5CA_mNXRq"
      }
    },
    {
      "cell_type": "code",
      "source": [
        "matrix_7_1 = np.random.randint(1, 11, size=(2, 2))\n",
        "matrix_7_2 = np.random.randint(1, 11, size=(2, 3))\n",
        "\n",
        "m_dot = np.dot(matrix_7_1, matrix_7_2)\n",
        "\n",
        "# print(f\"{matrix_7_1} \\n \\n {matrix_7_2} \\n\\n {m_dot}\")"
      ],
      "metadata": {
        "id": "aa2FD3rrNfY-"
      },
      "execution_count": null,
      "outputs": []
    },
    {
      "cell_type": "markdown",
      "source": [
        "8. Створіть матрицю розміром 3x3, заповніть її випадковими цілими числами в діапазоні від 1 до 10 та знайдіть її обернену матрицю."
      ],
      "metadata": {
        "id": "wgRT8tq3P9mh"
      }
    },
    {
      "cell_type": "code",
      "source": [
        "matrix_8_1 = np.random.rand(3, 3)\n",
        "\n",
        "m_inv = np.linalg.inv(matrix_8_1)\n",
        "\n",
        "# print(f\"{matrix_8_1} \\n \\n {m_inv}\")"
      ],
      "metadata": {
        "id": "DxlVvuXcQFPy"
      },
      "execution_count": null,
      "outputs": []
    },
    {
      "cell_type": "markdown",
      "source": [
        "9. Створіть матрицю розміром 4x4, заповніть її випадковими дійсними числами в діапазоні від 0 до 1 та транспонуйте її."
      ],
      "metadata": {
        "id": "lvpHyIHBRoPe"
      }
    },
    {
      "cell_type": "code",
      "source": [
        "matrix_9_1 = np.random.randint(1, 11, size=(4, 4))\n",
        "\n",
        "m_trans = matrix_9_1.T\n",
        "\n",
        "# print(f\"{matrix_9_1} \\n \\n {m_trans}\")"
      ],
      "metadata": {
        "id": "rqVo-YjbRqYJ"
      },
      "execution_count": null,
      "outputs": []
    },
    {
      "cell_type": "markdown",
      "source": [
        "10. Створіть матрицю розміром 3x4 та вектор розміром 4, заповніть їх випадковими цілими числами в діапазоні від 1 до 10 та перемножте матрицю на вектор."
      ],
      "metadata": {
        "id": "5m9tA1FqSVRe"
      }
    },
    {
      "cell_type": "code",
      "source": [
        "matrix_10_1 = np.random.randint(1, 11, size=(3, 4))\n",
        "vector_10_1 = np.random.randint(1, 11, size=(4))\n",
        "\n",
        "m_dot_v = np.dot(matrix_10_1, vector_10_1)\n",
        "\n",
        "# print(f\"{matrix_10_1} \\n \\n {vector_10_1} \\n \\n {m_dot_v}\")\n"
      ],
      "metadata": {
        "id": "IOQ7LYAEI5rT"
      },
      "execution_count": null,
      "outputs": []
    },
    {
      "cell_type": "markdown",
      "source": [
        "11. Створіть матрицю розміром 2x3 та вектор розміром 3, заповніть їх випадковими дійсними числами в діапазоні від 0 до 1 та перемножте матрицю на вектор."
      ],
      "metadata": {
        "id": "bECfa5dfSZ6t"
      }
    },
    {
      "cell_type": "code",
      "source": [
        "matrix_11_1 = np.random.rand(2, 3)\n",
        "vector_11_1 = np.random.rand(3)\n",
        "\n",
        "m_dot_v = np.dot(matrix_11_1, vector_11_1)\n",
        "\n",
        "# print(f\"{matrix_11_1} \\n \\n {vector_11_1} \\n \\n {m_dot_v}\")"
      ],
      "metadata": {
        "id": "VrntD5ymLheS"
      },
      "execution_count": null,
      "outputs": []
    },
    {
      "cell_type": "markdown",
      "source": [
        "12. Створіть дві матриці розміром 2x2, заповніть їх випадковими цілими числами в діапазоні від 1 до 10 та виконайте їхнє поелементне множення."
      ],
      "metadata": {
        "id": "R_HPhlT1SfPT"
      }
    },
    {
      "cell_type": "code",
      "source": [
        "matrix_12_1 = np.random.randint(1, 11, size=(2, 2))\n",
        "matrix_12_2 = np.random.randint(1, 11, size=(2, 2))\n",
        "\n",
        "m_mult = matrix_12_1 * matrix_12_2\n",
        "\n",
        "# print(f\"{matrix_12_1} \\n\\n {matrix_12_2} \\n\\n {m_mult}\")"
      ],
      "metadata": {
        "id": "Ty15Ly8uMFih"
      },
      "execution_count": null,
      "outputs": []
    },
    {
      "cell_type": "markdown",
      "source": [
        "13. Створіть дві матриці розміром 2x2, заповніть їх випадковими цілими числами в діапазоні від 1 до 10 та знайдіть їх добуток."
      ],
      "metadata": {
        "id": "mYSFKeFiSk_z"
      }
    },
    {
      "cell_type": "code",
      "source": [
        "matrix_13_1 = np.random.randint(1, 11, size=(2, 2))\n",
        "matrix_13_2 = np.random.randint(1, 11, size=(2, 2))\n",
        "\n",
        "m_dot = np.dot(matrix_13_1, matrix_13_2)\n",
        "\n",
        "# print(f\"{matrix_13_1} \\n\\n {matrix_13_2} \\n\\n {m_dot}\")"
      ],
      "metadata": {
        "id": "z2D8TPQCMsZr"
      },
      "execution_count": null,
      "outputs": []
    },
    {
      "cell_type": "markdown",
      "source": [
        "14. Створіть матрицю розміром 5x5, заповніть її випадковими цілими числами в діапазоні від 1 до 100 та знайдіть суму елементів матриці."
      ],
      "metadata": {
        "id": "zMbeYWmxSpzz"
      }
    },
    {
      "cell_type": "code",
      "source": [
        "matrix_14_1 = np.random.randint(1, 101, size=(5, 5))\n",
        "\n",
        "m_sum = np.sum(matrix_14_1)\n",
        "\n",
        "# print(f\"{matrix_14_1} \\n\\n {m_sum}\")"
      ],
      "metadata": {
        "id": "w-slhjL_NDm9"
      },
      "execution_count": null,
      "outputs": []
    },
    {
      "cell_type": "markdown",
      "source": [
        "15. Створіть дві матриці розміром 4x4, заповніть їх випадковими цілими числами в діапазоні від 1 до 10 та знайдіть їхню різницю."
      ],
      "metadata": {
        "id": "WBpvCgzJStbD"
      }
    },
    {
      "cell_type": "code",
      "source": [
        "matrix_15_1 = np.random.randint(1, 11, size=(4, 4))\n",
        "matrix_15_2 = np.random.randint(1, 11, size=(4, 4))\n",
        "\n",
        "m_sub = matrix_15_1 - matrix_15_2\n",
        "\n",
        "# print(f\"{matrix_15_1} \\n\\n {matrix_15_2} \\n\\n {m_sub}\")"
      ],
      "metadata": {
        "id": "DG5rKAPEOcJB"
      },
      "execution_count": null,
      "outputs": []
    },
    {
      "cell_type": "markdown",
      "source": [
        "16. Створіть матрицю розміром 3x3, заповніть її випадковими дійсними числами в діапазоні від 0 до 1 та знайдіть вектор-стовпчик, що містить суму елементів кожного рядка матриці."
      ],
      "metadata": {
        "id": "25BMFbU0Swx7"
      }
    },
    {
      "cell_type": "code",
      "source": [
        "matrix_16_1 = np.random.rand(3, 3)\n",
        "\n",
        "v_sums = np.sum(matrix_16_1, axis=1, keepdims=True)\n",
        "# v_sums2 = np.sum(matrix_16_1, axis=1, keepdims=False)\n",
        "\n",
        "# print(f\"{matrix_16_1} \\n\\n {v_sums} \\n\\n {v_sums2}\")"
      ],
      "metadata": {
        "id": "xWnzQQ8tQO_c"
      },
      "execution_count": null,
      "outputs": []
    },
    {
      "cell_type": "markdown",
      "source": [
        "17. Створіть матрицю розміром 3x4 з довільними цілими числами і створінь матрицю з квадратами цих чисел."
      ],
      "metadata": {
        "id": "EQNDj35RS2Q9"
      }
    },
    {
      "cell_type": "code",
      "source": [
        "matrix_17_1 = np.random.randint(1, 11, size=(3, 4))\n",
        "\n",
        "m_squa = np.square(matrix_17_1)\n",
        "\n",
        "# print(f\"{matrix_17_1} \\n\\n {m_squa}\")"
      ],
      "metadata": {
        "id": "UuWa0g2vSrae"
      },
      "execution_count": null,
      "outputs": []
    },
    {
      "cell_type": "markdown",
      "source": [
        "18. Створіть вектор розміром 4, заповніть його випадковими цілими числами в діапазоні від 1 до 50 та знайдіть вектор з квадратними коренями цих чисел."
      ],
      "metadata": {
        "id": "asg7cmDbS5cF"
      }
    },
    {
      "cell_type": "code",
      "source": [
        "vector_18_1 = np.random.randint(1, 51, size=(4))\n",
        "\n",
        "v_sqrt = np.sqrt(vector_18_1)\n",
        "\n",
        "# print(f\"{vector_18_1} \\n\\n {v_sqrt }\")\n"
      ],
      "metadata": {
        "id": "VWFQyeYsTL6a"
      },
      "execution_count": null,
      "outputs": []
    }
  ]
}